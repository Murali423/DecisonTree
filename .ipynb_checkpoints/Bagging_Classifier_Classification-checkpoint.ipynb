{
 "cells": [
  {
   "cell_type": "markdown",
   "id": "2dfaa55a",
   "metadata": {},
   "source": [
    "### Problem Statement"
   ]
  },
  {
   "cell_type": "markdown",
   "id": "58abf487",
   "metadata": {},
   "source": [
    "#### use bagging classifier and regressor, extra tree classifier and regressor, voting classifier and regressor and random forest classifier and regressor on top of Household consumption data and census data"
   ]
  },
  {
   "cell_type": "markdown",
   "id": "ff0d0fbc",
   "metadata": {},
   "source": [
    "#### Classfication of sensus Data"
   ]
  },
  {
   "cell_type": "markdown",
   "id": "51991222",
   "metadata": {},
   "source": [
    "Dataset: https://archive.ics.uci.edu/ml/datasets/census+income\n",
    "\n",
    "For EDA an FE Please watch this post: https://www.linkedin.com/posts/murali-divya-teja-gummadidala-machine-learning_logisticsvm-assignment-activity-6993985726476378112-XTwa?utm_source=share&utm_medium=member_desktop"
   ]
  },
  {
   "cell_type": "markdown",
   "id": "a40432a1",
   "metadata": {},
   "source": [
    "Build a decision Tree model which can able to predict the person salary >=50k or less."
   ]
  },
  {
   "cell_type": "code",
   "execution_count": 1,
   "id": "2012b6bd",
   "metadata": {},
   "outputs": [],
   "source": [
    "import pandas as pd\n",
    "import numpy as np \n",
    "import matplotlib.pyplot as plt\n",
    "import seaborn as sns\n",
    "\n",
    "%matplotlib inline"
   ]
  },
  {
   "cell_type": "code",
   "execution_count": 2,
   "id": "e011038f",
   "metadata": {},
   "outputs": [
    {
     "data": {
      "text/html": [
       "<div>\n",
       "<style scoped>\n",
       "    .dataframe tbody tr th:only-of-type {\n",
       "        vertical-align: middle;\n",
       "    }\n",
       "\n",
       "    .dataframe tbody tr th {\n",
       "        vertical-align: top;\n",
       "    }\n",
       "\n",
       "    .dataframe thead th {\n",
       "        text-align: right;\n",
       "    }\n",
       "</style>\n",
       "<table border=\"1\" class=\"dataframe\">\n",
       "  <thead>\n",
       "    <tr style=\"text-align: right;\">\n",
       "      <th></th>\n",
       "      <th>Unnamed: 0</th>\n",
       "      <th>age</th>\n",
       "      <th>workclass</th>\n",
       "      <th>fnlwgt</th>\n",
       "      <th>education</th>\n",
       "      <th>education-num</th>\n",
       "      <th>marital-status</th>\n",
       "      <th>occupation</th>\n",
       "      <th>capital-gain</th>\n",
       "      <th>capital-loss</th>\n",
       "      <th>...</th>\n",
       "      <th>sex_ Male</th>\n",
       "      <th>race_ Asian-Pac-Islander</th>\n",
       "      <th>race_ Black</th>\n",
       "      <th>race_ Other</th>\n",
       "      <th>race_ White</th>\n",
       "      <th>relationship_ Not-in-family</th>\n",
       "      <th>relationship_ Other-relative</th>\n",
       "      <th>relationship_ Own-child</th>\n",
       "      <th>relationship_ Unmarried</th>\n",
       "      <th>relationship_ Wife</th>\n",
       "    </tr>\n",
       "  </thead>\n",
       "  <tbody>\n",
       "    <tr>\n",
       "      <th>0</th>\n",
       "      <td>0</td>\n",
       "      <td>3.663562</td>\n",
       "      <td>0.039864</td>\n",
       "      <td>11.258240</td>\n",
       "      <td>0</td>\n",
       "      <td>13</td>\n",
       "      <td>0.328092</td>\n",
       "      <td>0.115783</td>\n",
       "      <td>0.734717</td>\n",
       "      <td>-0.0</td>\n",
       "      <td>...</td>\n",
       "      <td>1</td>\n",
       "      <td>0</td>\n",
       "      <td>0</td>\n",
       "      <td>0</td>\n",
       "      <td>1</td>\n",
       "      <td>1</td>\n",
       "      <td>0</td>\n",
       "      <td>0</td>\n",
       "      <td>0</td>\n",
       "      <td>0</td>\n",
       "    </tr>\n",
       "    <tr>\n",
       "      <th>1</th>\n",
       "      <td>1</td>\n",
       "      <td>3.912023</td>\n",
       "      <td>0.078038</td>\n",
       "      <td>11.330336</td>\n",
       "      <td>0</td>\n",
       "      <td>13</td>\n",
       "      <td>0.459937</td>\n",
       "      <td>0.124873</td>\n",
       "      <td>-0.000000</td>\n",
       "      <td>-0.0</td>\n",
       "      <td>...</td>\n",
       "      <td>1</td>\n",
       "      <td>0</td>\n",
       "      <td>0</td>\n",
       "      <td>0</td>\n",
       "      <td>1</td>\n",
       "      <td>0</td>\n",
       "      <td>0</td>\n",
       "      <td>0</td>\n",
       "      <td>0</td>\n",
       "      <td>0</td>\n",
       "    </tr>\n",
       "    <tr>\n",
       "      <th>2</th>\n",
       "      <td>2</td>\n",
       "      <td>3.637586</td>\n",
       "      <td>0.753417</td>\n",
       "      <td>12.281393</td>\n",
       "      <td>1</td>\n",
       "      <td>9</td>\n",
       "      <td>0.136452</td>\n",
       "      <td>0.042075</td>\n",
       "      <td>-0.000000</td>\n",
       "      <td>-0.0</td>\n",
       "      <td>...</td>\n",
       "      <td>1</td>\n",
       "      <td>0</td>\n",
       "      <td>0</td>\n",
       "      <td>0</td>\n",
       "      <td>1</td>\n",
       "      <td>1</td>\n",
       "      <td>0</td>\n",
       "      <td>0</td>\n",
       "      <td>0</td>\n",
       "      <td>0</td>\n",
       "    </tr>\n",
       "    <tr>\n",
       "      <th>3</th>\n",
       "      <td>3</td>\n",
       "      <td>3.970292</td>\n",
       "      <td>0.753417</td>\n",
       "      <td>12.366153</td>\n",
       "      <td>2</td>\n",
       "      <td>7</td>\n",
       "      <td>0.459937</td>\n",
       "      <td>0.042075</td>\n",
       "      <td>-0.000000</td>\n",
       "      <td>-0.0</td>\n",
       "      <td>...</td>\n",
       "      <td>1</td>\n",
       "      <td>0</td>\n",
       "      <td>1</td>\n",
       "      <td>0</td>\n",
       "      <td>0</td>\n",
       "      <td>0</td>\n",
       "      <td>0</td>\n",
       "      <td>0</td>\n",
       "      <td>0</td>\n",
       "      <td>0</td>\n",
       "    </tr>\n",
       "    <tr>\n",
       "      <th>4</th>\n",
       "      <td>4</td>\n",
       "      <td>3.332205</td>\n",
       "      <td>0.753417</td>\n",
       "      <td>12.732011</td>\n",
       "      <td>0</td>\n",
       "      <td>13</td>\n",
       "      <td>0.459937</td>\n",
       "      <td>0.183747</td>\n",
       "      <td>-0.000000</td>\n",
       "      <td>-0.0</td>\n",
       "      <td>...</td>\n",
       "      <td>0</td>\n",
       "      <td>0</td>\n",
       "      <td>1</td>\n",
       "      <td>0</td>\n",
       "      <td>0</td>\n",
       "      <td>0</td>\n",
       "      <td>0</td>\n",
       "      <td>0</td>\n",
       "      <td>0</td>\n",
       "      <td>1</td>\n",
       "    </tr>\n",
       "  </tbody>\n",
       "</table>\n",
       "<p>5 rows × 23 columns</p>\n",
       "</div>"
      ],
      "text/plain": [
       "   Unnamed: 0       age  workclass     fnlwgt  education  education-num  \\\n",
       "0           0  3.663562   0.039864  11.258240          0             13   \n",
       "1           1  3.912023   0.078038  11.330336          0             13   \n",
       "2           2  3.637586   0.753417  12.281393          1              9   \n",
       "3           3  3.970292   0.753417  12.366153          2              7   \n",
       "4           4  3.332205   0.753417  12.732011          0             13   \n",
       "\n",
       "   marital-status  occupation  capital-gain  capital-loss  ...  sex_ Male  \\\n",
       "0        0.328092    0.115783      0.734717          -0.0  ...          1   \n",
       "1        0.459937    0.124873     -0.000000          -0.0  ...          1   \n",
       "2        0.136452    0.042075     -0.000000          -0.0  ...          1   \n",
       "3        0.459937    0.042075     -0.000000          -0.0  ...          1   \n",
       "4        0.459937    0.183747     -0.000000          -0.0  ...          0   \n",
       "\n",
       "   race_ Asian-Pac-Islander  race_ Black  race_ Other  race_ White  \\\n",
       "0                         0            0            0            1   \n",
       "1                         0            0            0            1   \n",
       "2                         0            0            0            1   \n",
       "3                         0            1            0            0   \n",
       "4                         0            1            0            0   \n",
       "\n",
       "   relationship_ Not-in-family  relationship_ Other-relative  \\\n",
       "0                            1                             0   \n",
       "1                            0                             0   \n",
       "2                            1                             0   \n",
       "3                            0                             0   \n",
       "4                            0                             0   \n",
       "\n",
       "   relationship_ Own-child  relationship_ Unmarried  relationship_ Wife  \n",
       "0                        0                        0                   0  \n",
       "1                        0                        0                   0  \n",
       "2                        0                        0                   0  \n",
       "3                        0                        0                   0  \n",
       "4                        0                        0                   1  \n",
       "\n",
       "[5 rows x 23 columns]"
      ]
     },
     "execution_count": 2,
     "metadata": {},
     "output_type": "execute_result"
    }
   ],
   "source": [
    "df = pd.read_csv(r'C:\\Users\\HP\\Documents\\ML-Assignment\\ML-assingment\\Classification\\census_enc.csv')\n",
    "df.head()"
   ]
  },
  {
   "cell_type": "code",
   "execution_count": 3,
   "id": "e96f8c5c",
   "metadata": {},
   "outputs": [
    {
     "data": {
      "text/plain": [
       "Index(['Unnamed: 0', 'age', 'workclass', 'fnlwgt', 'education',\n",
       "       'education-num', 'marital-status', 'occupation', 'capital-gain',\n",
       "       'capital-loss', 'hours-per-week', 'native-country', 'salary',\n",
       "       'sex_ Male', 'race_ Asian-Pac-Islander', 'race_ Black', 'race_ Other',\n",
       "       'race_ White', 'relationship_ Not-in-family',\n",
       "       'relationship_ Other-relative', 'relationship_ Own-child',\n",
       "       'relationship_ Unmarried', 'relationship_ Wife'],\n",
       "      dtype='object')"
      ]
     },
     "execution_count": 3,
     "metadata": {},
     "output_type": "execute_result"
    }
   ],
   "source": [
    "df.columns"
   ]
  },
  {
   "cell_type": "code",
   "execution_count": 4,
   "id": "eae916e7",
   "metadata": {},
   "outputs": [],
   "source": [
    "df.drop(['Unnamed: 0'],axis=1,inplace= True)"
   ]
  },
  {
   "cell_type": "code",
   "execution_count": 5,
   "id": "95251401",
   "metadata": {},
   "outputs": [
    {
     "data": {
      "text/html": [
       "<div>\n",
       "<style scoped>\n",
       "    .dataframe tbody tr th:only-of-type {\n",
       "        vertical-align: middle;\n",
       "    }\n",
       "\n",
       "    .dataframe tbody tr th {\n",
       "        vertical-align: top;\n",
       "    }\n",
       "\n",
       "    .dataframe thead th {\n",
       "        text-align: right;\n",
       "    }\n",
       "</style>\n",
       "<table border=\"1\" class=\"dataframe\">\n",
       "  <thead>\n",
       "    <tr style=\"text-align: right;\">\n",
       "      <th></th>\n",
       "      <th>age</th>\n",
       "      <th>workclass</th>\n",
       "      <th>fnlwgt</th>\n",
       "      <th>education</th>\n",
       "      <th>education-num</th>\n",
       "      <th>marital-status</th>\n",
       "      <th>occupation</th>\n",
       "      <th>capital-gain</th>\n",
       "      <th>capital-loss</th>\n",
       "      <th>hours-per-week</th>\n",
       "      <th>...</th>\n",
       "      <th>sex_ Male</th>\n",
       "      <th>race_ Asian-Pac-Islander</th>\n",
       "      <th>race_ Black</th>\n",
       "      <th>race_ Other</th>\n",
       "      <th>race_ White</th>\n",
       "      <th>relationship_ Not-in-family</th>\n",
       "      <th>relationship_ Other-relative</th>\n",
       "      <th>relationship_ Own-child</th>\n",
       "      <th>relationship_ Unmarried</th>\n",
       "      <th>relationship_ Wife</th>\n",
       "    </tr>\n",
       "  </thead>\n",
       "  <tbody>\n",
       "    <tr>\n",
       "      <th>0</th>\n",
       "      <td>3.663562</td>\n",
       "      <td>0.039864</td>\n",
       "      <td>11.258240</td>\n",
       "      <td>0</td>\n",
       "      <td>13</td>\n",
       "      <td>0.328092</td>\n",
       "      <td>0.115783</td>\n",
       "      <td>0.734717</td>\n",
       "      <td>-0.0</td>\n",
       "      <td>40</td>\n",
       "      <td>...</td>\n",
       "      <td>1</td>\n",
       "      <td>0</td>\n",
       "      <td>0</td>\n",
       "      <td>0</td>\n",
       "      <td>1</td>\n",
       "      <td>1</td>\n",
       "      <td>0</td>\n",
       "      <td>0</td>\n",
       "      <td>0</td>\n",
       "      <td>0</td>\n",
       "    </tr>\n",
       "    <tr>\n",
       "      <th>1</th>\n",
       "      <td>3.912023</td>\n",
       "      <td>0.078038</td>\n",
       "      <td>11.330336</td>\n",
       "      <td>0</td>\n",
       "      <td>13</td>\n",
       "      <td>0.459937</td>\n",
       "      <td>0.124873</td>\n",
       "      <td>-0.000000</td>\n",
       "      <td>-0.0</td>\n",
       "      <td>13</td>\n",
       "      <td>...</td>\n",
       "      <td>1</td>\n",
       "      <td>0</td>\n",
       "      <td>0</td>\n",
       "      <td>0</td>\n",
       "      <td>1</td>\n",
       "      <td>0</td>\n",
       "      <td>0</td>\n",
       "      <td>0</td>\n",
       "      <td>0</td>\n",
       "      <td>0</td>\n",
       "    </tr>\n",
       "    <tr>\n",
       "      <th>2</th>\n",
       "      <td>3.637586</td>\n",
       "      <td>0.753417</td>\n",
       "      <td>12.281393</td>\n",
       "      <td>1</td>\n",
       "      <td>9</td>\n",
       "      <td>0.136452</td>\n",
       "      <td>0.042075</td>\n",
       "      <td>-0.000000</td>\n",
       "      <td>-0.0</td>\n",
       "      <td>40</td>\n",
       "      <td>...</td>\n",
       "      <td>1</td>\n",
       "      <td>0</td>\n",
       "      <td>0</td>\n",
       "      <td>0</td>\n",
       "      <td>1</td>\n",
       "      <td>1</td>\n",
       "      <td>0</td>\n",
       "      <td>0</td>\n",
       "      <td>0</td>\n",
       "      <td>0</td>\n",
       "    </tr>\n",
       "    <tr>\n",
       "      <th>3</th>\n",
       "      <td>3.970292</td>\n",
       "      <td>0.753417</td>\n",
       "      <td>12.366153</td>\n",
       "      <td>2</td>\n",
       "      <td>7</td>\n",
       "      <td>0.459937</td>\n",
       "      <td>0.042075</td>\n",
       "      <td>-0.000000</td>\n",
       "      <td>-0.0</td>\n",
       "      <td>40</td>\n",
       "      <td>...</td>\n",
       "      <td>1</td>\n",
       "      <td>0</td>\n",
       "      <td>1</td>\n",
       "      <td>0</td>\n",
       "      <td>0</td>\n",
       "      <td>0</td>\n",
       "      <td>0</td>\n",
       "      <td>0</td>\n",
       "      <td>0</td>\n",
       "      <td>0</td>\n",
       "    </tr>\n",
       "    <tr>\n",
       "      <th>4</th>\n",
       "      <td>3.332205</td>\n",
       "      <td>0.753417</td>\n",
       "      <td>12.732011</td>\n",
       "      <td>0</td>\n",
       "      <td>13</td>\n",
       "      <td>0.459937</td>\n",
       "      <td>0.183747</td>\n",
       "      <td>-0.000000</td>\n",
       "      <td>-0.0</td>\n",
       "      <td>40</td>\n",
       "      <td>...</td>\n",
       "      <td>0</td>\n",
       "      <td>0</td>\n",
       "      <td>1</td>\n",
       "      <td>0</td>\n",
       "      <td>0</td>\n",
       "      <td>0</td>\n",
       "      <td>0</td>\n",
       "      <td>0</td>\n",
       "      <td>0</td>\n",
       "      <td>1</td>\n",
       "    </tr>\n",
       "  </tbody>\n",
       "</table>\n",
       "<p>5 rows × 22 columns</p>\n",
       "</div>"
      ],
      "text/plain": [
       "        age  workclass     fnlwgt  education  education-num  marital-status  \\\n",
       "0  3.663562   0.039864  11.258240          0             13        0.328092   \n",
       "1  3.912023   0.078038  11.330336          0             13        0.459937   \n",
       "2  3.637586   0.753417  12.281393          1              9        0.136452   \n",
       "3  3.970292   0.753417  12.366153          2              7        0.459937   \n",
       "4  3.332205   0.753417  12.732011          0             13        0.459937   \n",
       "\n",
       "   occupation  capital-gain  capital-loss  hours-per-week  ...  sex_ Male  \\\n",
       "0    0.115783      0.734717          -0.0              40  ...          1   \n",
       "1    0.124873     -0.000000          -0.0              13  ...          1   \n",
       "2    0.042075     -0.000000          -0.0              40  ...          1   \n",
       "3    0.042075     -0.000000          -0.0              40  ...          1   \n",
       "4    0.183747     -0.000000          -0.0              40  ...          0   \n",
       "\n",
       "   race_ Asian-Pac-Islander  race_ Black  race_ Other  race_ White  \\\n",
       "0                         0            0            0            1   \n",
       "1                         0            0            0            1   \n",
       "2                         0            0            0            1   \n",
       "3                         0            1            0            0   \n",
       "4                         0            1            0            0   \n",
       "\n",
       "   relationship_ Not-in-family  relationship_ Other-relative  \\\n",
       "0                            1                             0   \n",
       "1                            0                             0   \n",
       "2                            1                             0   \n",
       "3                            0                             0   \n",
       "4                            0                             0   \n",
       "\n",
       "   relationship_ Own-child  relationship_ Unmarried  relationship_ Wife  \n",
       "0                        0                        0                   0  \n",
       "1                        0                        0                   0  \n",
       "2                        0                        0                   0  \n",
       "3                        0                        0                   0  \n",
       "4                        0                        0                   1  \n",
       "\n",
       "[5 rows x 22 columns]"
      ]
     },
     "execution_count": 5,
     "metadata": {},
     "output_type": "execute_result"
    }
   ],
   "source": [
    "df.head()"
   ]
  },
  {
   "cell_type": "code",
   "execution_count": 6,
   "id": "0c278632",
   "metadata": {},
   "outputs": [
    {
     "data": {
      "text/plain": [
       "age                             0\n",
       "workclass                       0\n",
       "fnlwgt                          0\n",
       "education                       0\n",
       "education-num                   0\n",
       "marital-status                  0\n",
       "occupation                      0\n",
       "capital-gain                    0\n",
       "capital-loss                    0\n",
       "hours-per-week                  0\n",
       "native-country                  0\n",
       "salary                          0\n",
       "sex_ Male                       0\n",
       "race_ Asian-Pac-Islander        0\n",
       "race_ Black                     0\n",
       "race_ Other                     0\n",
       "race_ White                     0\n",
       "relationship_ Not-in-family     0\n",
       "relationship_ Other-relative    0\n",
       "relationship_ Own-child         0\n",
       "relationship_ Unmarried         0\n",
       "relationship_ Wife              0\n",
       "dtype: int64"
      ]
     },
     "execution_count": 6,
     "metadata": {},
     "output_type": "execute_result"
    }
   ],
   "source": [
    "df.isnull().sum()"
   ]
  },
  {
   "cell_type": "code",
   "execution_count": 7,
   "id": "98952896",
   "metadata": {},
   "outputs": [
    {
     "data": {
      "text/html": [
       "<div>\n",
       "<style scoped>\n",
       "    .dataframe tbody tr th:only-of-type {\n",
       "        vertical-align: middle;\n",
       "    }\n",
       "\n",
       "    .dataframe tbody tr th {\n",
       "        vertical-align: top;\n",
       "    }\n",
       "\n",
       "    .dataframe thead th {\n",
       "        text-align: right;\n",
       "    }\n",
       "</style>\n",
       "<table border=\"1\" class=\"dataframe\">\n",
       "  <thead>\n",
       "    <tr style=\"text-align: right;\">\n",
       "      <th></th>\n",
       "      <th>count</th>\n",
       "      <th>mean</th>\n",
       "      <th>std</th>\n",
       "      <th>min</th>\n",
       "      <th>25%</th>\n",
       "      <th>50%</th>\n",
       "      <th>75%</th>\n",
       "      <th>max</th>\n",
       "    </tr>\n",
       "  </thead>\n",
       "  <tbody>\n",
       "    <tr>\n",
       "      <th>age</th>\n",
       "      <td>32561.0</td>\n",
       "      <td>3.589360</td>\n",
       "      <td>0.360379</td>\n",
       "      <td>2.833213</td>\n",
       "      <td>3.332205</td>\n",
       "      <td>3.610918</td>\n",
       "      <td>3.871201</td>\n",
       "      <td>4.499810</td>\n",
       "    </tr>\n",
       "    <tr>\n",
       "      <th>workclass</th>\n",
       "      <td>32561.0</td>\n",
       "      <td>0.581492</td>\n",
       "      <td>0.300678</td>\n",
       "      <td>0.000215</td>\n",
       "      <td>0.753417</td>\n",
       "      <td>0.753417</td>\n",
       "      <td>0.753417</td>\n",
       "      <td>0.753417</td>\n",
       "    </tr>\n",
       "    <tr>\n",
       "      <th>fnlwgt</th>\n",
       "      <td>32561.0</td>\n",
       "      <td>11.986407</td>\n",
       "      <td>0.583247</td>\n",
       "      <td>10.583043</td>\n",
       "      <td>11.676973</td>\n",
       "      <td>12.091537</td>\n",
       "      <td>12.376031</td>\n",
       "      <td>12.847089</td>\n",
       "    </tr>\n",
       "    <tr>\n",
       "      <th>education</th>\n",
       "      <td>32561.0</td>\n",
       "      <td>3.424465</td>\n",
       "      <td>3.453582</td>\n",
       "      <td>0.000000</td>\n",
       "      <td>1.000000</td>\n",
       "      <td>2.000000</td>\n",
       "      <td>5.000000</td>\n",
       "      <td>15.000000</td>\n",
       "    </tr>\n",
       "    <tr>\n",
       "      <th>education-num</th>\n",
       "      <td>32561.0</td>\n",
       "      <td>10.080679</td>\n",
       "      <td>2.572720</td>\n",
       "      <td>1.000000</td>\n",
       "      <td>9.000000</td>\n",
       "      <td>10.000000</td>\n",
       "      <td>12.000000</td>\n",
       "      <td>16.000000</td>\n",
       "    </tr>\n",
       "    <tr>\n",
       "      <th>marital-status</th>\n",
       "      <td>32561.0</td>\n",
       "      <td>0.339891</td>\n",
       "      <td>0.140320</td>\n",
       "      <td>0.000706</td>\n",
       "      <td>0.328092</td>\n",
       "      <td>0.328092</td>\n",
       "      <td>0.459937</td>\n",
       "      <td>0.459937</td>\n",
       "    </tr>\n",
       "    <tr>\n",
       "      <th>occupation</th>\n",
       "      <td>32561.0</td>\n",
       "      <td>0.111534</td>\n",
       "      <td>0.046773</td>\n",
       "      <td>0.000276</td>\n",
       "      <td>0.101195</td>\n",
       "      <td>0.115783</td>\n",
       "      <td>0.125887</td>\n",
       "      <td>0.183747</td>\n",
       "    </tr>\n",
       "    <tr>\n",
       "      <th>capital-gain</th>\n",
       "      <td>32561.0</td>\n",
       "      <td>0.061195</td>\n",
       "      <td>0.203023</td>\n",
       "      <td>-0.000000</td>\n",
       "      <td>0.000000</td>\n",
       "      <td>0.000000</td>\n",
       "      <td>0.000000</td>\n",
       "      <td>0.734738</td>\n",
       "    </tr>\n",
       "    <tr>\n",
       "      <th>capital-loss</th>\n",
       "      <td>32561.0</td>\n",
       "      <td>0.016342</td>\n",
       "      <td>0.073877</td>\n",
       "      <td>-0.000000</td>\n",
       "      <td>0.000000</td>\n",
       "      <td>0.000000</td>\n",
       "      <td>0.000000</td>\n",
       "      <td>0.350305</td>\n",
       "    </tr>\n",
       "    <tr>\n",
       "      <th>hours-per-week</th>\n",
       "      <td>32561.0</td>\n",
       "      <td>40.437456</td>\n",
       "      <td>12.347429</td>\n",
       "      <td>1.000000</td>\n",
       "      <td>40.000000</td>\n",
       "      <td>40.000000</td>\n",
       "      <td>45.000000</td>\n",
       "      <td>99.000000</td>\n",
       "    </tr>\n",
       "    <tr>\n",
       "      <th>native-country</th>\n",
       "      <td>32561.0</td>\n",
       "      <td>0.835528</td>\n",
       "      <td>0.254674</td>\n",
       "      <td>0.000031</td>\n",
       "      <td>0.913762</td>\n",
       "      <td>0.913762</td>\n",
       "      <td>0.913762</td>\n",
       "      <td>0.913762</td>\n",
       "    </tr>\n",
       "    <tr>\n",
       "      <th>salary</th>\n",
       "      <td>32561.0</td>\n",
       "      <td>0.240810</td>\n",
       "      <td>0.427581</td>\n",
       "      <td>0.000000</td>\n",
       "      <td>0.000000</td>\n",
       "      <td>0.000000</td>\n",
       "      <td>0.000000</td>\n",
       "      <td>1.000000</td>\n",
       "    </tr>\n",
       "    <tr>\n",
       "      <th>sex_ Male</th>\n",
       "      <td>32561.0</td>\n",
       "      <td>0.669205</td>\n",
       "      <td>0.470506</td>\n",
       "      <td>0.000000</td>\n",
       "      <td>0.000000</td>\n",
       "      <td>1.000000</td>\n",
       "      <td>1.000000</td>\n",
       "      <td>1.000000</td>\n",
       "    </tr>\n",
       "    <tr>\n",
       "      <th>race_ Asian-Pac-Islander</th>\n",
       "      <td>32561.0</td>\n",
       "      <td>0.031909</td>\n",
       "      <td>0.175761</td>\n",
       "      <td>0.000000</td>\n",
       "      <td>0.000000</td>\n",
       "      <td>0.000000</td>\n",
       "      <td>0.000000</td>\n",
       "      <td>1.000000</td>\n",
       "    </tr>\n",
       "    <tr>\n",
       "      <th>race_ Black</th>\n",
       "      <td>32561.0</td>\n",
       "      <td>0.095943</td>\n",
       "      <td>0.294518</td>\n",
       "      <td>0.000000</td>\n",
       "      <td>0.000000</td>\n",
       "      <td>0.000000</td>\n",
       "      <td>0.000000</td>\n",
       "      <td>1.000000</td>\n",
       "    </tr>\n",
       "    <tr>\n",
       "      <th>race_ Other</th>\n",
       "      <td>32561.0</td>\n",
       "      <td>0.008323</td>\n",
       "      <td>0.090851</td>\n",
       "      <td>0.000000</td>\n",
       "      <td>0.000000</td>\n",
       "      <td>0.000000</td>\n",
       "      <td>0.000000</td>\n",
       "      <td>1.000000</td>\n",
       "    </tr>\n",
       "    <tr>\n",
       "      <th>race_ White</th>\n",
       "      <td>32561.0</td>\n",
       "      <td>0.854274</td>\n",
       "      <td>0.352837</td>\n",
       "      <td>0.000000</td>\n",
       "      <td>1.000000</td>\n",
       "      <td>1.000000</td>\n",
       "      <td>1.000000</td>\n",
       "      <td>1.000000</td>\n",
       "    </tr>\n",
       "    <tr>\n",
       "      <th>relationship_ Not-in-family</th>\n",
       "      <td>32561.0</td>\n",
       "      <td>0.255060</td>\n",
       "      <td>0.435901</td>\n",
       "      <td>0.000000</td>\n",
       "      <td>0.000000</td>\n",
       "      <td>0.000000</td>\n",
       "      <td>1.000000</td>\n",
       "      <td>1.000000</td>\n",
       "    </tr>\n",
       "    <tr>\n",
       "      <th>relationship_ Other-relative</th>\n",
       "      <td>32561.0</td>\n",
       "      <td>0.030128</td>\n",
       "      <td>0.170942</td>\n",
       "      <td>0.000000</td>\n",
       "      <td>0.000000</td>\n",
       "      <td>0.000000</td>\n",
       "      <td>0.000000</td>\n",
       "      <td>1.000000</td>\n",
       "    </tr>\n",
       "    <tr>\n",
       "      <th>relationship_ Own-child</th>\n",
       "      <td>32561.0</td>\n",
       "      <td>0.155646</td>\n",
       "      <td>0.362525</td>\n",
       "      <td>0.000000</td>\n",
       "      <td>0.000000</td>\n",
       "      <td>0.000000</td>\n",
       "      <td>0.000000</td>\n",
       "      <td>1.000000</td>\n",
       "    </tr>\n",
       "    <tr>\n",
       "      <th>relationship_ Unmarried</th>\n",
       "      <td>32561.0</td>\n",
       "      <td>0.105832</td>\n",
       "      <td>0.307627</td>\n",
       "      <td>0.000000</td>\n",
       "      <td>0.000000</td>\n",
       "      <td>0.000000</td>\n",
       "      <td>0.000000</td>\n",
       "      <td>1.000000</td>\n",
       "    </tr>\n",
       "    <tr>\n",
       "      <th>relationship_ Wife</th>\n",
       "      <td>32561.0</td>\n",
       "      <td>0.048156</td>\n",
       "      <td>0.214099</td>\n",
       "      <td>0.000000</td>\n",
       "      <td>0.000000</td>\n",
       "      <td>0.000000</td>\n",
       "      <td>0.000000</td>\n",
       "      <td>1.000000</td>\n",
       "    </tr>\n",
       "  </tbody>\n",
       "</table>\n",
       "</div>"
      ],
      "text/plain": [
       "                                count       mean        std        min  \\\n",
       "age                           32561.0   3.589360   0.360379   2.833213   \n",
       "workclass                     32561.0   0.581492   0.300678   0.000215   \n",
       "fnlwgt                        32561.0  11.986407   0.583247  10.583043   \n",
       "education                     32561.0   3.424465   3.453582   0.000000   \n",
       "education-num                 32561.0  10.080679   2.572720   1.000000   \n",
       "marital-status                32561.0   0.339891   0.140320   0.000706   \n",
       "occupation                    32561.0   0.111534   0.046773   0.000276   \n",
       "capital-gain                  32561.0   0.061195   0.203023  -0.000000   \n",
       "capital-loss                  32561.0   0.016342   0.073877  -0.000000   \n",
       "hours-per-week                32561.0  40.437456  12.347429   1.000000   \n",
       "native-country                32561.0   0.835528   0.254674   0.000031   \n",
       "salary                        32561.0   0.240810   0.427581   0.000000   \n",
       "sex_ Male                     32561.0   0.669205   0.470506   0.000000   \n",
       "race_ Asian-Pac-Islander      32561.0   0.031909   0.175761   0.000000   \n",
       "race_ Black                   32561.0   0.095943   0.294518   0.000000   \n",
       "race_ Other                   32561.0   0.008323   0.090851   0.000000   \n",
       "race_ White                   32561.0   0.854274   0.352837   0.000000   \n",
       "relationship_ Not-in-family   32561.0   0.255060   0.435901   0.000000   \n",
       "relationship_ Other-relative  32561.0   0.030128   0.170942   0.000000   \n",
       "relationship_ Own-child       32561.0   0.155646   0.362525   0.000000   \n",
       "relationship_ Unmarried       32561.0   0.105832   0.307627   0.000000   \n",
       "relationship_ Wife            32561.0   0.048156   0.214099   0.000000   \n",
       "\n",
       "                                    25%        50%        75%        max  \n",
       "age                            3.332205   3.610918   3.871201   4.499810  \n",
       "workclass                      0.753417   0.753417   0.753417   0.753417  \n",
       "fnlwgt                        11.676973  12.091537  12.376031  12.847089  \n",
       "education                      1.000000   2.000000   5.000000  15.000000  \n",
       "education-num                  9.000000  10.000000  12.000000  16.000000  \n",
       "marital-status                 0.328092   0.328092   0.459937   0.459937  \n",
       "occupation                     0.101195   0.115783   0.125887   0.183747  \n",
       "capital-gain                   0.000000   0.000000   0.000000   0.734738  \n",
       "capital-loss                   0.000000   0.000000   0.000000   0.350305  \n",
       "hours-per-week                40.000000  40.000000  45.000000  99.000000  \n",
       "native-country                 0.913762   0.913762   0.913762   0.913762  \n",
       "salary                         0.000000   0.000000   0.000000   1.000000  \n",
       "sex_ Male                      0.000000   1.000000   1.000000   1.000000  \n",
       "race_ Asian-Pac-Islander       0.000000   0.000000   0.000000   1.000000  \n",
       "race_ Black                    0.000000   0.000000   0.000000   1.000000  \n",
       "race_ Other                    0.000000   0.000000   0.000000   1.000000  \n",
       "race_ White                    1.000000   1.000000   1.000000   1.000000  \n",
       "relationship_ Not-in-family    0.000000   0.000000   1.000000   1.000000  \n",
       "relationship_ Other-relative   0.000000   0.000000   0.000000   1.000000  \n",
       "relationship_ Own-child        0.000000   0.000000   0.000000   1.000000  \n",
       "relationship_ Unmarried        0.000000   0.000000   0.000000   1.000000  \n",
       "relationship_ Wife             0.000000   0.000000   0.000000   1.000000  "
      ]
     },
     "execution_count": 7,
     "metadata": {},
     "output_type": "execute_result"
    }
   ],
   "source": [
    "df.describe().T"
   ]
  },
  {
   "cell_type": "markdown",
   "id": "88a2d73f",
   "metadata": {},
   "source": [
    "### Spliting the Data"
   ]
  },
  {
   "cell_type": "code",
   "execution_count": 8,
   "id": "9862a672",
   "metadata": {},
   "outputs": [
    {
     "data": {
      "text/html": [
       "<div>\n",
       "<style scoped>\n",
       "    .dataframe tbody tr th:only-of-type {\n",
       "        vertical-align: middle;\n",
       "    }\n",
       "\n",
       "    .dataframe tbody tr th {\n",
       "        vertical-align: top;\n",
       "    }\n",
       "\n",
       "    .dataframe thead th {\n",
       "        text-align: right;\n",
       "    }\n",
       "</style>\n",
       "<table border=\"1\" class=\"dataframe\">\n",
       "  <thead>\n",
       "    <tr style=\"text-align: right;\">\n",
       "      <th></th>\n",
       "      <th>age</th>\n",
       "      <th>workclass</th>\n",
       "      <th>fnlwgt</th>\n",
       "      <th>education</th>\n",
       "      <th>education-num</th>\n",
       "      <th>marital-status</th>\n",
       "      <th>occupation</th>\n",
       "      <th>capital-gain</th>\n",
       "      <th>capital-loss</th>\n",
       "      <th>hours-per-week</th>\n",
       "      <th>...</th>\n",
       "      <th>sex_ Male</th>\n",
       "      <th>race_ Asian-Pac-Islander</th>\n",
       "      <th>race_ Black</th>\n",
       "      <th>race_ Other</th>\n",
       "      <th>race_ White</th>\n",
       "      <th>relationship_ Not-in-family</th>\n",
       "      <th>relationship_ Other-relative</th>\n",
       "      <th>relationship_ Own-child</th>\n",
       "      <th>relationship_ Unmarried</th>\n",
       "      <th>relationship_ Wife</th>\n",
       "    </tr>\n",
       "  </thead>\n",
       "  <tbody>\n",
       "    <tr>\n",
       "      <th>0</th>\n",
       "      <td>3.663562</td>\n",
       "      <td>0.039864</td>\n",
       "      <td>11.258240</td>\n",
       "      <td>0</td>\n",
       "      <td>13</td>\n",
       "      <td>0.328092</td>\n",
       "      <td>0.115783</td>\n",
       "      <td>0.734717</td>\n",
       "      <td>-0.0</td>\n",
       "      <td>40</td>\n",
       "      <td>...</td>\n",
       "      <td>1</td>\n",
       "      <td>0</td>\n",
       "      <td>0</td>\n",
       "      <td>0</td>\n",
       "      <td>1</td>\n",
       "      <td>1</td>\n",
       "      <td>0</td>\n",
       "      <td>0</td>\n",
       "      <td>0</td>\n",
       "      <td>0</td>\n",
       "    </tr>\n",
       "    <tr>\n",
       "      <th>1</th>\n",
       "      <td>3.912023</td>\n",
       "      <td>0.078038</td>\n",
       "      <td>11.330336</td>\n",
       "      <td>0</td>\n",
       "      <td>13</td>\n",
       "      <td>0.459937</td>\n",
       "      <td>0.124873</td>\n",
       "      <td>-0.000000</td>\n",
       "      <td>-0.0</td>\n",
       "      <td>13</td>\n",
       "      <td>...</td>\n",
       "      <td>1</td>\n",
       "      <td>0</td>\n",
       "      <td>0</td>\n",
       "      <td>0</td>\n",
       "      <td>1</td>\n",
       "      <td>0</td>\n",
       "      <td>0</td>\n",
       "      <td>0</td>\n",
       "      <td>0</td>\n",
       "      <td>0</td>\n",
       "    </tr>\n",
       "    <tr>\n",
       "      <th>2</th>\n",
       "      <td>3.637586</td>\n",
       "      <td>0.753417</td>\n",
       "      <td>12.281393</td>\n",
       "      <td>1</td>\n",
       "      <td>9</td>\n",
       "      <td>0.136452</td>\n",
       "      <td>0.042075</td>\n",
       "      <td>-0.000000</td>\n",
       "      <td>-0.0</td>\n",
       "      <td>40</td>\n",
       "      <td>...</td>\n",
       "      <td>1</td>\n",
       "      <td>0</td>\n",
       "      <td>0</td>\n",
       "      <td>0</td>\n",
       "      <td>1</td>\n",
       "      <td>1</td>\n",
       "      <td>0</td>\n",
       "      <td>0</td>\n",
       "      <td>0</td>\n",
       "      <td>0</td>\n",
       "    </tr>\n",
       "    <tr>\n",
       "      <th>3</th>\n",
       "      <td>3.970292</td>\n",
       "      <td>0.753417</td>\n",
       "      <td>12.366153</td>\n",
       "      <td>2</td>\n",
       "      <td>7</td>\n",
       "      <td>0.459937</td>\n",
       "      <td>0.042075</td>\n",
       "      <td>-0.000000</td>\n",
       "      <td>-0.0</td>\n",
       "      <td>40</td>\n",
       "      <td>...</td>\n",
       "      <td>1</td>\n",
       "      <td>0</td>\n",
       "      <td>1</td>\n",
       "      <td>0</td>\n",
       "      <td>0</td>\n",
       "      <td>0</td>\n",
       "      <td>0</td>\n",
       "      <td>0</td>\n",
       "      <td>0</td>\n",
       "      <td>0</td>\n",
       "    </tr>\n",
       "    <tr>\n",
       "      <th>4</th>\n",
       "      <td>3.332205</td>\n",
       "      <td>0.753417</td>\n",
       "      <td>12.732011</td>\n",
       "      <td>0</td>\n",
       "      <td>13</td>\n",
       "      <td>0.459937</td>\n",
       "      <td>0.183747</td>\n",
       "      <td>-0.000000</td>\n",
       "      <td>-0.0</td>\n",
       "      <td>40</td>\n",
       "      <td>...</td>\n",
       "      <td>0</td>\n",
       "      <td>0</td>\n",
       "      <td>1</td>\n",
       "      <td>0</td>\n",
       "      <td>0</td>\n",
       "      <td>0</td>\n",
       "      <td>0</td>\n",
       "      <td>0</td>\n",
       "      <td>0</td>\n",
       "      <td>1</td>\n",
       "    </tr>\n",
       "  </tbody>\n",
       "</table>\n",
       "<p>5 rows × 21 columns</p>\n",
       "</div>"
      ],
      "text/plain": [
       "        age  workclass     fnlwgt  education  education-num  marital-status  \\\n",
       "0  3.663562   0.039864  11.258240          0             13        0.328092   \n",
       "1  3.912023   0.078038  11.330336          0             13        0.459937   \n",
       "2  3.637586   0.753417  12.281393          1              9        0.136452   \n",
       "3  3.970292   0.753417  12.366153          2              7        0.459937   \n",
       "4  3.332205   0.753417  12.732011          0             13        0.459937   \n",
       "\n",
       "   occupation  capital-gain  capital-loss  hours-per-week  ...  sex_ Male  \\\n",
       "0    0.115783      0.734717          -0.0              40  ...          1   \n",
       "1    0.124873     -0.000000          -0.0              13  ...          1   \n",
       "2    0.042075     -0.000000          -0.0              40  ...          1   \n",
       "3    0.042075     -0.000000          -0.0              40  ...          1   \n",
       "4    0.183747     -0.000000          -0.0              40  ...          0   \n",
       "\n",
       "   race_ Asian-Pac-Islander  race_ Black  race_ Other  race_ White  \\\n",
       "0                         0            0            0            1   \n",
       "1                         0            0            0            1   \n",
       "2                         0            0            0            1   \n",
       "3                         0            1            0            0   \n",
       "4                         0            1            0            0   \n",
       "\n",
       "   relationship_ Not-in-family  relationship_ Other-relative  \\\n",
       "0                            1                             0   \n",
       "1                            0                             0   \n",
       "2                            1                             0   \n",
       "3                            0                             0   \n",
       "4                            0                             0   \n",
       "\n",
       "   relationship_ Own-child  relationship_ Unmarried  relationship_ Wife  \n",
       "0                        0                        0                   0  \n",
       "1                        0                        0                   0  \n",
       "2                        0                        0                   0  \n",
       "3                        0                        0                   0  \n",
       "4                        0                        0                   1  \n",
       "\n",
       "[5 rows x 21 columns]"
      ]
     },
     "execution_count": 8,
     "metadata": {},
     "output_type": "execute_result"
    }
   ],
   "source": [
    "X = df.drop(['salary'],axis=1)\n",
    "X.head()"
   ]
  },
  {
   "cell_type": "code",
   "execution_count": 9,
   "id": "11894414",
   "metadata": {},
   "outputs": [
    {
     "data": {
      "text/plain": [
       "Index(['age', 'workclass', 'fnlwgt', 'education', 'education-num',\n",
       "       'marital-status', 'occupation', 'capital-gain', 'capital-loss',\n",
       "       'hours-per-week', 'native-country', 'sex_ Male',\n",
       "       'race_ Asian-Pac-Islander', 'race_ Black', 'race_ Other', 'race_ White',\n",
       "       'relationship_ Not-in-family', 'relationship_ Other-relative',\n",
       "       'relationship_ Own-child', 'relationship_ Unmarried',\n",
       "       'relationship_ Wife'],\n",
       "      dtype='object')"
      ]
     },
     "execution_count": 9,
     "metadata": {},
     "output_type": "execute_result"
    }
   ],
   "source": [
    "X.columns"
   ]
  },
  {
   "cell_type": "code",
   "execution_count": 10,
   "id": "37b53a07",
   "metadata": {},
   "outputs": [
    {
     "data": {
      "text/plain": [
       "0    0\n",
       "1    0\n",
       "2    0\n",
       "3    0\n",
       "4    0\n",
       "Name: salary, dtype: int64"
      ]
     },
     "execution_count": 10,
     "metadata": {},
     "output_type": "execute_result"
    }
   ],
   "source": [
    "y = df['salary']\n",
    "y.head()"
   ]
  },
  {
   "cell_type": "markdown",
   "id": "6f974991",
   "metadata": {},
   "source": [
    "#### Spliting the data "
   ]
  },
  {
   "cell_type": "code",
   "execution_count": 13,
   "id": "7c2337ce",
   "metadata": {},
   "outputs": [],
   "source": [
    "from sklearn.model_selection import train_test_split"
   ]
  },
  {
   "cell_type": "code",
   "execution_count": 14,
   "id": "cad72ffe",
   "metadata": {},
   "outputs": [],
   "source": [
    "X_train,X_test,y_train,y_test = train_test_split(X,y,test_size=0.33,random_state=42)"
   ]
  },
  {
   "cell_type": "code",
   "execution_count": 15,
   "id": "98640205",
   "metadata": {},
   "outputs": [
    {
     "data": {
      "text/plain": [
       "(21815, 21)"
      ]
     },
     "execution_count": 15,
     "metadata": {},
     "output_type": "execute_result"
    }
   ],
   "source": [
    "X_train.shape"
   ]
  },
  {
   "cell_type": "code",
   "execution_count": 16,
   "id": "150911ef",
   "metadata": {},
   "outputs": [
    {
     "data": {
      "text/plain": [
       "(21815,)"
      ]
     },
     "execution_count": 16,
     "metadata": {},
     "output_type": "execute_result"
    }
   ],
   "source": [
    "y_train.shape"
   ]
  },
  {
   "cell_type": "markdown",
   "id": "b14bd75d",
   "metadata": {},
   "source": [
    "### Modelling using Bagging classifier"
   ]
  },
  {
   "cell_type": "code",
   "execution_count": 11,
   "id": "03d13324",
   "metadata": {},
   "outputs": [],
   "source": [
    "from sklearn.svm import SVC\n",
    "from sklearn.ensemble import BaggingClassifier\n"
   ]
  },
  {
   "cell_type": "code",
   "execution_count": 17,
   "id": "52294476",
   "metadata": {},
   "outputs": [],
   "source": [
    "model_bagging_svc = BaggingClassifier(base_estimator=SVC(),n_estimators=50, random_state=0).fit(X_train, y_train)"
   ]
  },
  {
   "cell_type": "code",
   "execution_count": 18,
   "id": "bbcbad10",
   "metadata": {},
   "outputs": [],
   "source": [
    "y_bag_pred = model_bagging_svc.predict(X_test)"
   ]
  },
  {
   "cell_type": "code",
   "execution_count": 19,
   "id": "066f8674",
   "metadata": {},
   "outputs": [],
   "source": [
    "from sklearn.metrics import classification_report, accuracy_score, confusion_matrix"
   ]
  },
  {
   "cell_type": "code",
   "execution_count": 20,
   "id": "229f6bb1",
   "metadata": {},
   "outputs": [
    {
     "data": {
      "text/plain": [
       "array([[7939,  257],\n",
       "       [1726,  824]], dtype=int64)"
      ]
     },
     "execution_count": 20,
     "metadata": {},
     "output_type": "execute_result"
    }
   ],
   "source": [
    "cm = confusion_matrix(y_test,y_bag_pred)\n",
    "cm"
   ]
  },
  {
   "cell_type": "code",
   "execution_count": 21,
   "id": "6fe7a432",
   "metadata": {},
   "outputs": [
    {
     "name": "stdout",
     "output_type": "stream",
     "text": [
      "0.8154662199888331\n"
     ]
    }
   ],
   "source": [
    "print(accuracy_score(y_test,y_bag_pred))"
   ]
  },
  {
   "cell_type": "code",
   "execution_count": 22,
   "id": "6d81568f",
   "metadata": {},
   "outputs": [
    {
     "name": "stdout",
     "output_type": "stream",
     "text": [
      "              precision    recall  f1-score   support\n",
      "\n",
      "           0       0.82      0.97      0.89      8196\n",
      "           1       0.76      0.32      0.45      2550\n",
      "\n",
      "    accuracy                           0.82     10746\n",
      "   macro avg       0.79      0.65      0.67     10746\n",
      "weighted avg       0.81      0.82      0.79     10746\n",
      "\n"
     ]
    }
   ],
   "source": [
    "print(classification_report(y_test,y_bag_pred))"
   ]
  },
  {
   "cell_type": "code",
   "execution_count": 23,
   "id": "a8231bac",
   "metadata": {},
   "outputs": [],
   "source": [
    "from sklearn.metrics import roc_curve,roc_auc_score"
   ]
  },
  {
   "cell_type": "code",
   "execution_count": 24,
   "id": "f32a8323",
   "metadata": {},
   "outputs": [
    {
     "data": {
      "text/plain": [
       "array([0., 0., 1., ..., 0., 0., 0.])"
      ]
     },
     "execution_count": 24,
     "metadata": {},
     "output_type": "execute_result"
    }
   ],
   "source": [
    "y_prd_bg_prb = model_bagging_svc.predict_proba(X_test)[:,1]\n",
    "y_prd_bg_prb"
   ]
  },
  {
   "cell_type": "code",
   "execution_count": 39,
   "id": "8b491d32",
   "metadata": {},
   "outputs": [],
   "source": [
    "fpr_b,tpr_b,ther_b = roc_curve(y_test,y_prd_bg_prb)\n",
    "\n"
   ]
  },
  {
   "cell_type": "code",
   "execution_count": 40,
   "id": "9c655863",
   "metadata": {},
   "outputs": [
    {
     "data": {
      "text/plain": [
       "(array([0.        , 0.02220595, 0.02379209, 0.02452416, 0.02537823,\n",
       "        0.02574427, 0.02598829, 0.02647633, 0.02647633, 0.02708638,\n",
       "        0.02757443, 0.02781845, 0.02830649, 0.0284285 , 0.02891654,\n",
       "        0.02916057, 0.0295266 , 0.02989263, 0.03013665, 0.03038067,\n",
       "        0.03050268, 0.03099073, 0.03111274, 0.03123475, 0.03135676,\n",
       "        0.0318448 , 0.03196681, 0.03196681, 0.03221083, 0.03269888,\n",
       "        0.03318692, 0.03355295, 0.034041  , 0.03452904, 0.03477306,\n",
       "        0.03513909, 0.03538311, 0.03562714, 0.03587116, 0.03623719,\n",
       "        0.0363592 , 0.03709126, 0.03794534, 0.03831137, 0.03904344,\n",
       "        0.04038555, 0.04197169, 1.        ]),\n",
       " array([0.        , 0.26705882, 0.2745098 , 0.28588235, 0.29137255,\n",
       "        0.29647059, 0.29882353, 0.30156863, 0.3054902 , 0.30666667,\n",
       "        0.30784314, 0.30784314, 0.31019608, 0.31137255, 0.31372549,\n",
       "        0.31529412, 0.31647059, 0.31803922, 0.31882353, 0.31921569,\n",
       "        0.32078431, 0.32078431, 0.32235294, 0.32235294, 0.32313725,\n",
       "        0.32392157, 0.32431373, 0.32470588, 0.3254902 , 0.32705882,\n",
       "        0.32784314, 0.32823529, 0.33058824, 0.33098039, 0.33294118,\n",
       "        0.3345098 , 0.33607843, 0.33764706, 0.33803922, 0.33843137,\n",
       "        0.33960784, 0.34117647, 0.34235294, 0.34352941, 0.34431373,\n",
       "        0.35098039, 0.35764706, 1.        ]))"
      ]
     },
     "execution_count": 40,
     "metadata": {},
     "output_type": "execute_result"
    }
   ],
   "source": [
    "fpr_b,tpr_b"
   ]
  },
  {
   "cell_type": "code",
   "execution_count": 42,
   "id": "d9cd52a5",
   "metadata": {},
   "outputs": [
    {
     "data": {
      "text/plain": [
       "0.659635666370013"
      ]
     },
     "execution_count": 42,
     "metadata": {},
     "output_type": "execute_result"
    }
   ],
   "source": [
    "auc_b = roc_auc_score(y_test,y_prd_bg_prb)\n",
    "auc_b"
   ]
  },
  {
   "cell_type": "code",
   "execution_count": 43,
   "id": "c0865e51",
   "metadata": {},
   "outputs": [],
   "source": [
    "def plot_roc_curve(fpr, tpr,auc):\n",
    "    plt.plot(fpr, tpr, color='orange', label='ROC and auc score = '+str(auc))\n",
    "    plt.plot([0, 1], [0, 1], color='darkblue', linestyle='--')\n",
    "    plt.xlabel('False Positive Rate')\n",
    "    plt.ylabel('True Positive Rate')\n",
    "    plt.title('Receiver Operating Characteristic (ROC) Curve')\n",
    "    plt.legend()\n",
    "    plt.show()"
   ]
  },
  {
   "cell_type": "code",
   "execution_count": 44,
   "id": "9d6ec509",
   "metadata": {},
   "outputs": [
    {
     "data": {
      "image/png": "[encoded data removed]",
      "text/plain": [
       "<Figure size 432x288 with 1 Axes>"
      ]
     },
     "metadata": {
      "needs_background": "light"
     },
     "output_type": "display_data"
    }
   ],
   "source": [
    "plot_roc_curve(fpr_b,tpr_b,auc_b)"
   ]
  },
  {
   "cell_type": "markdown",
   "id": "869d5a65",
   "metadata": {},
   "source": [
    "### the AUC score is 64% and accuracy is 81% we can improve the score by hyperparameter tuening but as my System is very old and it will give wrose effect for the running application. I will submit those hyperparamerer later."
   ]
  },
  {
   "cell_type": "markdown",
   "id": "087ce513",
   "metadata": {},
   "source": [
    "### Classification using Random Forest"
   ]
  },
  {
   "cell_type": "code",
   "execution_count": 31,
   "id": "e0c1c364",
   "metadata": {},
   "outputs": [],
   "source": [
    "from sklearn.ensemble import RandomForestClassifier"
   ]
  },
  {
   "cell_type": "code",
   "execution_count": 32,
   "id": "0017c38d",
   "metadata": {},
   "outputs": [],
   "source": [
    "randcl = RandomForestClassifier(max_depth=2, random_state=0)"
   ]
  },
  {
   "cell_type": "code",
   "execution_count": 33,
   "id": "ec3b90af",
   "metadata": {},
   "outputs": [
    {
     "data": {
      "text/html": [
       "<style>#sk-container-id-1 {color: black;background-color: white;}#sk-container-id-1 pre{padding: 0;}#sk-container-id-1 div.sk-toggleable {background-color: white;}#sk-container-id-1 label.sk-toggleable__label {cursor: pointer;display: block;width: 100%;margin-bottom: 0;padding: 0.3em;box-sizing: border-box;text-align: center;}#sk-container-id-1 label.sk-toggleable__label-arrow:before {content: \"▸\";float: left;margin-right: 0.25em;color: #696969;}#sk-container-id-1 label.sk-toggleable__label-arrow:hover:before {color: black;}#sk-container-id-1 div.sk-estimator:hover label.sk-toggleable__label-arrow:before {color: black;}#sk-container-id-1 div.sk-toggleable__content {max-height: 0;max-width: 0;overflow: hidden;text-align: left;background-color: #f0f8ff;}#sk-container-id-1 div.sk-toggleable__content pre {margin: 0.2em;color: black;border-radius: 0.25em;background-color: #f0f8ff;}#sk-container-id-1 input.sk-toggleable__control:checked~div.sk-toggleable__content {max-height: 200px;max-width: 100%;overflow: auto;}#sk-container-id-1 input.sk-toggleable__control:checked~label.sk-toggleable__label-arrow:before {content: \"▾\";}#sk-container-id-1 div.sk-estimator input.sk-toggleable__control:checked~label.sk-toggleable__label {background-color: #d4ebff;}#sk-container-id-1 div.sk-label input.sk-toggleable__control:checked~label.sk-toggleable__label {background-color: #d4ebff;}#sk-container-id-1 input.sk-hidden--visually {border: 0;clip: rect(1px 1px 1px 1px);clip: rect(1px, 1px, 1px, 1px);height: 1px;margin: -1px;overflow: hidden;padding: 0;position: absolute;width: 1px;}#sk-container-id-1 div.sk-estimator {font-family: monospace;background-color: #f0f8ff;border: 1px dotted black;border-radius: 0.25em;box-sizing: border-box;margin-bottom: 0.5em;}#sk-container-id-1 div.sk-estimator:hover {background-color: #d4ebff;}#sk-container-id-1 div.sk-parallel-item::after {content: \"\";width: 100%;border-bottom: 1px solid gray;flex-grow: 1;}#sk-container-id-1 div.sk-label:hover label.sk-toggleable__label {background-color: #d4ebff;}#sk-container-id-1 div.sk-serial::before {content: \"\";position: absolute;border-left: 1px solid gray;box-sizing: border-box;top: 0;bottom: 0;left: 50%;z-index: 0;}#sk-container-id-1 div.sk-serial {display: flex;flex-direction: column;align-items: center;background-color: white;padding-right: 0.2em;padding-left: 0.2em;position: relative;}#sk-container-id-1 div.sk-item {position: relative;z-index: 1;}#sk-container-id-1 div.sk-parallel {display: flex;align-items: stretch;justify-content: center;background-color: white;position: relative;}#sk-container-id-1 div.sk-item::before, #sk-container-id-1 div.sk-parallel-item::before {content: \"\";position: absolute;border-left: 1px solid gray;box-sizing: border-box;top: 0;bottom: 0;left: 50%;z-index: -1;}#sk-container-id-1 div.sk-parallel-item {display: flex;flex-direction: column;z-index: 1;position: relative;background-color: white;}#sk-container-id-1 div.sk-parallel-item:first-child::after {align-self: flex-end;width: 50%;}#sk-container-id-1 div.sk-parallel-item:last-child::after {align-self: flex-start;width: 50%;}#sk-container-id-1 div.sk-parallel-item:only-child::after {width: 0;}#sk-container-id-1 div.sk-dashed-wrapped {border: 1px dashed gray;margin: 0 0.4em 0.5em 0.4em;box-sizing: border-box;padding-bottom: 0.4em;background-color: white;}#sk-container-id-1 div.sk-label label {font-family: monospace;font-weight: bold;display: inline-block;line-height: 1.2em;}#sk-container-id-1 div.sk-label-container {text-align: center;}#sk-container-id-1 div.sk-container {/* jupyter's `normalize.less` sets `[hidden] { display: none; }` but bootstrap.min.css set `[hidden] { display: none !important; }` so we also need the `!important` here to be able to override the default hidden behavior on the sphinx rendered scikit-learn.org. See: https://github.com/scikit-learn/scikit-learn/issues/21755 */display: inline-block !important;position: relative;}#sk-container-id-1 div.sk-text-repr-fallback {display: none;}</style><div id=\"sk-container-id-1\" class=\"sk-top-container\"><div class=\"sk-text-repr-fallback\"><pre>RandomForestClassifier(max_depth=2, random_state=0)</pre><b>In a Jupyter environment, please rerun this cell to show the HTML representation or trust the notebook. <br />On GitHub, the HTML representation is unable to render, please try loading this page with nbviewer.org.</b></div><div class=\"sk-container\" hidden><div class=\"sk-item\"><div class=\"sk-estimator sk-toggleable\"><input class=\"sk-toggleable__control sk-hidden--visually\" id=\"sk-estimator-id-1\" type=\"checkbox\" checked><label for=\"sk-estimator-id-1\" class=\"sk-toggleable__label sk-toggleable__label-arrow\">RandomForestClassifier</label><div class=\"sk-toggleable__content\"><pre>RandomForestClassifier(max_depth=2, random_state=0)</pre></div></div></div></div></div>"
      ],
      "text/plain": [
       "RandomForestClassifier(max_depth=2, random_state=0)"
      ]
     },
     "execution_count": 33,
     "metadata": {},
     "output_type": "execute_result"
    }
   ],
   "source": [
    "randcl.fit(X_train,y_train)"
   ]
  },
  {
   "cell_type": "code",
   "execution_count": 34,
   "id": "9490b842",
   "metadata": {},
   "outputs": [
    {
     "data": {
      "text/plain": [
       "array([0, 0, 0, ..., 0, 0, 0], dtype=int64)"
      ]
     },
     "execution_count": 34,
     "metadata": {},
     "output_type": "execute_result"
    }
   ],
   "source": [
    "y_prd_rc = randcl.predict(X_test)\n",
    "y_prd_rc"
   ]
  },
  {
   "cell_type": "code",
   "execution_count": 35,
   "id": "5a037be5",
   "metadata": {},
   "outputs": [
    {
     "data": {
      "text/plain": [
       "array([[8194,    2],\n",
       "       [2110,  440]], dtype=int64)"
      ]
     },
     "execution_count": 35,
     "metadata": {},
     "output_type": "execute_result"
    }
   ],
   "source": [
    "cm_rc = confusion_matrix(y_test,y_prd_rc)\n",
    "cm_rc"
   ]
  },
  {
   "cell_type": "code",
   "execution_count": 36,
   "id": "49fb4076",
   "metadata": {},
   "outputs": [
    {
     "name": "stdout",
     "output_type": "stream",
     "text": [
      "0.803461753210497\n"
     ]
    }
   ],
   "source": [
    "print(accuracy_score(y_test,y_prd_rc))"
   ]
  },
  {
   "cell_type": "code",
   "execution_count": 37,
   "id": "2a65e085",
   "metadata": {},
   "outputs": [
    {
     "name": "stdout",
     "output_type": "stream",
     "text": [
      "              precision    recall  f1-score   support\n",
      "\n",
      "           0       0.80      1.00      0.89      8196\n",
      "           1       1.00      0.17      0.29      2550\n",
      "\n",
      "    accuracy                           0.80     10746\n",
      "   macro avg       0.90      0.59      0.59     10746\n",
      "weighted avg       0.84      0.80      0.75     10746\n",
      "\n"
     ]
    }
   ],
   "source": [
    "print(classification_report(y_test,y_prd_rc))"
   ]
  },
  {
   "cell_type": "code",
   "execution_count": 38,
   "id": "68492048",
   "metadata": {},
   "outputs": [
    {
     "data": {
      "text/plain": [
       "array([0.1041554 , 0.28697126, 0.41906823, ..., 0.28306673, 0.31227758,\n",
       "       0.11433371])"
      ]
     },
     "execution_count": 38,
     "metadata": {},
     "output_type": "execute_result"
    }
   ],
   "source": [
    "y_prd_rc_prb = randcl.predict_proba(X_test)[:,1]\n",
    "y_prd_rc_prb"
   ]
  },
  {
   "cell_type": "code",
   "execution_count": 45,
   "id": "c2568539",
   "metadata": {},
   "outputs": [
    {
     "data": {
      "text/plain": [
       "(array([0.        , 0.        , 0.        , ..., 0.99707174, 0.99743777,\n",
       "        1.        ]),\n",
       " array([0.        , 0.00156863, 0.00392157, ..., 1.        , 1.        ,\n",
       "        1.        ]))"
      ]
     },
     "execution_count": 45,
     "metadata": {},
     "output_type": "execute_result"
    }
   ],
   "source": [
    "fpr_r,tpr_r,ther_r = roc_curve(y_test,y_prd_rc_prb)\n",
    "fpr_r,tpr_r"
   ]
  },
  {
   "cell_type": "code",
   "execution_count": 46,
   "id": "16b6ece0",
   "metadata": {},
   "outputs": [
    {
     "data": {
      "text/plain": [
       "0.8882139063531709"
      ]
     },
     "execution_count": 46,
     "metadata": {},
     "output_type": "execute_result"
    }
   ],
   "source": [
    "auc_r = roc_auc_score(y_test,y_prd_rc_prb)\n",
    "auc_r"
   ]
  },
  {
   "cell_type": "code",
   "execution_count": 47,
   "id": "677230f3",
   "metadata": {},
   "outputs": [
    {
     "data": {
      "image/png": "[encoded data removed]",
      "text/plain": [
       "<Figure size 432x288 with 1 Axes>"
      ]
     },
     "metadata": {
      "needs_background": "light"
     },
     "output_type": "display_data"
    }
   ],
   "source": [
    "plot_roc_curve(fpr_r,tpr_r,auc_r)"
   ]
  },
  {
   "cell_type": "markdown",
   "id": "1384d6b7",
   "metadata": {},
   "source": [
    "### the AUC score is 88% and accuracy is 80% we can improve the score by hyperparameter tuening but as my System is very old and it will give wrose effect for the running application. I will submit those hyperparamerer later."
   ]
  },
  {
   "cell_type": "markdown",
   "id": "e0d5c62f",
   "metadata": {},
   "source": [
    "#### Classification Using ExtratreeClassifier"
   ]
  },
  {
   "cell_type": "code",
   "execution_count": 48,
   "id": "d9110df4",
   "metadata": {},
   "outputs": [],
   "source": [
    "from sklearn.ensemble import ExtraTreesClassifier"
   ]
  },
  {
   "cell_type": "code",
   "execution_count": 49,
   "id": "375ccf55",
   "metadata": {},
   "outputs": [],
   "source": [
    "extc_m = ExtraTreesClassifier(max_depth=3, random_state=0)"
   ]
  },
  {
   "cell_type": "code",
   "execution_count": 50,
   "id": "9c89ed26",
   "metadata": {},
   "outputs": [
    {
     "data": {
      "text/html": [
       "<style>#sk-container-id-2 {color: black;background-color: white;}#sk-container-id-2 pre{padding: 0;}#sk-container-id-2 div.sk-toggleable {background-color: white;}#sk-container-id-2 label.sk-toggleable__label {cursor: pointer;display: block;width: 100%;margin-bottom: 0;padding: 0.3em;box-sizing: border-box;text-align: center;}#sk-container-id-2 label.sk-toggleable__label-arrow:before {content: \"▸\";float: left;margin-right: 0.25em;color: #696969;}#sk-container-id-2 label.sk-toggleable__label-arrow:hover:before {color: black;}#sk-container-id-2 div.sk-estimator:hover label.sk-toggleable__label-arrow:before {color: black;}#sk-container-id-2 div.sk-toggleable__content {max-height: 0;max-width: 0;overflow: hidden;text-align: left;background-color: #f0f8ff;}#sk-container-id-2 div.sk-toggleable__content pre {margin: 0.2em;color: black;border-radius: 0.25em;background-color: #f0f8ff;}#sk-container-id-2 input.sk-toggleable__control:checked~div.sk-toggleable__content {max-height: 200px;max-width: 100%;overflow: auto;}#sk-container-id-2 input.sk-toggleable__control:checked~label.sk-toggleable__label-arrow:before {content: \"▾\";}#sk-container-id-2 div.sk-estimator input.sk-toggleable__control:checked~label.sk-toggleable__label {background-color: #d4ebff;}#sk-container-id-2 div.sk-label input.sk-toggleable__control:checked~label.sk-toggleable__label {background-color: #d4ebff;}#sk-container-id-2 input.sk-hidden--visually {border: 0;clip: rect(1px 1px 1px 1px);clip: rect(1px, 1px, 1px, 1px);height: 1px;margin: -1px;overflow: hidden;padding: 0;position: absolute;width: 1px;}#sk-container-id-2 div.sk-estimator {font-family: monospace;background-color: #f0f8ff;border: 1px dotted black;border-radius: 0.25em;box-sizing: border-box;margin-bottom: 0.5em;}#sk-container-id-2 div.sk-estimator:hover {background-color: #d4ebff;}#sk-container-id-2 div.sk-parallel-item::after {content: \"\";width: 100%;border-bottom: 1px solid gray;flex-grow: 1;}#sk-container-id-2 div.sk-label:hover label.sk-toggleable__label {background-color: #d4ebff;}#sk-container-id-2 div.sk-serial::before {content: \"\";position: absolute;border-left: 1px solid gray;box-sizing: border-box;top: 0;bottom: 0;left: 50%;z-index: 0;}#sk-container-id-2 div.sk-serial {display: flex;flex-direction: column;align-items: center;background-color: white;padding-right: 0.2em;padding-left: 0.2em;position: relative;}#sk-container-id-2 div.sk-item {position: relative;z-index: 1;}#sk-container-id-2 div.sk-parallel {display: flex;align-items: stretch;justify-content: center;background-color: white;position: relative;}#sk-container-id-2 div.sk-item::before, #sk-container-id-2 div.sk-parallel-item::before {content: \"\";position: absolute;border-left: 1px solid gray;box-sizing: border-box;top: 0;bottom: 0;left: 50%;z-index: -1;}#sk-container-id-2 div.sk-parallel-item {display: flex;flex-direction: column;z-index: 1;position: relative;background-color: white;}#sk-container-id-2 div.sk-parallel-item:first-child::after {align-self: flex-end;width: 50%;}#sk-container-id-2 div.sk-parallel-item:last-child::after {align-self: flex-start;width: 50%;}#sk-container-id-2 div.sk-parallel-item:only-child::after {width: 0;}#sk-container-id-2 div.sk-dashed-wrapped {border: 1px dashed gray;margin: 0 0.4em 0.5em 0.4em;box-sizing: border-box;padding-bottom: 0.4em;background-color: white;}#sk-container-id-2 div.sk-label label {font-family: monospace;font-weight: bold;display: inline-block;line-height: 1.2em;}#sk-container-id-2 div.sk-label-container {text-align: center;}#sk-container-id-2 div.sk-container {/* jupyter's `normalize.less` sets `[hidden] { display: none; }` but bootstrap.min.css set `[hidden] { display: none !important; }` so we also need the `!important` here to be able to override the default hidden behavior on the sphinx rendered scikit-learn.org. See: https://github.com/scikit-learn/scikit-learn/issues/21755 */display: inline-block !important;position: relative;}#sk-container-id-2 div.sk-text-repr-fallback {display: none;}</style><div id=\"sk-container-id-2\" class=\"sk-top-container\"><div class=\"sk-text-repr-fallback\"><pre>ExtraTreesClassifier(max_depth=3, random_state=0)</pre><b>In a Jupyter environment, please rerun this cell to show the HTML representation or trust the notebook. <br />On GitHub, the HTML representation is unable to render, please try loading this page with nbviewer.org.</b></div><div class=\"sk-container\" hidden><div class=\"sk-item\"><div class=\"sk-estimator sk-toggleable\"><input class=\"sk-toggleable__control sk-hidden--visually\" id=\"sk-estimator-id-2\" type=\"checkbox\" checked><label for=\"sk-estimator-id-2\" class=\"sk-toggleable__label sk-toggleable__label-arrow\">ExtraTreesClassifier</label><div class=\"sk-toggleable__content\"><pre>ExtraTreesClassifier(max_depth=3, random_state=0)</pre></div></div></div></div></div>"
      ],
      "text/plain": [
       "ExtraTreesClassifier(max_depth=3, random_state=0)"
      ]
     },
     "execution_count": 50,
     "metadata": {},
     "output_type": "execute_result"
    }
   ],
   "source": [
    "extc_m.fit(X_train,y_train)"
   ]
  },
  {
   "cell_type": "code",
   "execution_count": 51,
   "id": "12a54a16",
   "metadata": {},
   "outputs": [
    {
     "data": {
      "text/plain": [
       "array([0, 0, 0, ..., 0, 0, 0], dtype=int64)"
      ]
     },
     "execution_count": 51,
     "metadata": {},
     "output_type": "execute_result"
    }
   ],
   "source": [
    "y_prd_et = extc_m.predict(X_test)\n",
    "y_prd_et"
   ]
  },
  {
   "cell_type": "code",
   "execution_count": 52,
   "id": "0ef67a11",
   "metadata": {},
   "outputs": [
    {
     "data": {
      "text/plain": [
       "array([[8173,   23],\n",
       "       [2284,  266]], dtype=int64)"
      ]
     },
     "execution_count": 52,
     "metadata": {},
     "output_type": "execute_result"
    }
   ],
   "source": [
    "cm_et = confusion_matrix(y_test,y_prd_et)\n",
    "cm_et"
   ]
  },
  {
   "cell_type": "code",
   "execution_count": 53,
   "id": "4d62995b",
   "metadata": {},
   "outputs": [
    {
     "name": "stdout",
     "output_type": "stream",
     "text": [
      "0.7853154662199888\n"
     ]
    }
   ],
   "source": [
    "print(accuracy_score(y_test,y_prd_et))"
   ]
  },
  {
   "cell_type": "code",
   "execution_count": 54,
   "id": "e7d2b52f",
   "metadata": {},
   "outputs": [
    {
     "name": "stdout",
     "output_type": "stream",
     "text": [
      "              precision    recall  f1-score   support\n",
      "\n",
      "           0       0.78      1.00      0.88      8196\n",
      "           1       0.92      0.10      0.19      2550\n",
      "\n",
      "    accuracy                           0.79     10746\n",
      "   macro avg       0.85      0.55      0.53     10746\n",
      "weighted avg       0.81      0.79      0.71     10746\n",
      "\n"
     ]
    }
   ],
   "source": [
    "print(classification_report(y_test,y_prd_et))"
   ]
  },
  {
   "cell_type": "code",
   "execution_count": 55,
   "id": "03b2f4e6",
   "metadata": {},
   "outputs": [
    {
     "data": {
      "text/plain": [
       "array([0.12168288, 0.31626401, 0.32046007, ..., 0.32030524, 0.32743276,\n",
       "       0.14631876])"
      ]
     },
     "execution_count": 55,
     "metadata": {},
     "output_type": "execute_result"
    }
   ],
   "source": [
    "y_prd_et_prb = extc_m.predict_proba(X_test)[:,1]\n",
    "y_prd_et_prb"
   ]
  },
  {
   "cell_type": "code",
   "execution_count": 56,
   "id": "04aa4b3c",
   "metadata": {},
   "outputs": [
    {
     "data": {
      "text/plain": [
       "(array([0.        , 0.        , 0.        , ..., 0.99780381, 0.99804783,\n",
       "        1.        ]),\n",
       " array([0.00000000e+00, 3.92156863e-04, 2.35294118e-03, ...,\n",
       "        1.00000000e+00, 1.00000000e+00, 1.00000000e+00]))"
      ]
     },
     "execution_count": 56,
     "metadata": {},
     "output_type": "execute_result"
    }
   ],
   "source": [
    "fpr_e,tpr_e,ther_e = roc_curve(y_test,y_prd_et_prb)\n",
    "fpr_e,tpr_e"
   ]
  },
  {
   "cell_type": "code",
   "execution_count": 57,
   "id": "4efd933f",
   "metadata": {},
   "outputs": [
    {
     "data": {
      "text/plain": [
       "0.8769232002220118"
      ]
     },
     "execution_count": 57,
     "metadata": {},
     "output_type": "execute_result"
    }
   ],
   "source": [
    "auc_e = roc_auc_score(y_test,y_prd_et_prb)\n",
    "auc_e"
   ]
  },
  {
   "cell_type": "code",
   "execution_count": 58,
   "id": "03734c3d",
   "metadata": {},
   "outputs": [
    {
     "data": {
      "image/png": "[encoded data removed]",
      "text/plain": [
       "<Figure size 432x288 with 1 Axes>"
      ]
     },
     "metadata": {
      "needs_background": "light"
     },
     "output_type": "display_data"
    }
   ],
   "source": [
    "plot_roc_curve(fpr_e,tpr_e,auc_e)"
   ]
  },
  {
   "cell_type": "markdown",
   "id": "ec14d933",
   "metadata": {},
   "source": [
    "### the AUC score is 87% and accuracy is 75% we can improve the score by hyperparameter tuening but as my System is very old and it will give wrose effect for the running application. I will submit those hyperparamerer later."
   ]
  },
  {
   "cell_type": "markdown",
   "id": "705653f6",
   "metadata": {},
   "source": [
    "### Classification using Voting Classifier "
   ]
  },
  {
   "cell_type": "code",
   "execution_count": 59,
   "id": "500f8b11",
   "metadata": {},
   "outputs": [],
   "source": [
    "from sklearn.linear_model import LogisticRegression\n",
    "from sklearn.naive_bayes import GaussianNB\n",
    "from sklearn.ensemble import VotingClassifier"
   ]
  },
  {
   "cell_type": "code",
   "execution_count": 62,
   "id": "50055557",
   "metadata": {},
   "outputs": [],
   "source": [
    "lr_m = LogisticRegression(random_state=1)\n",
    "rc_model = RandomForestClassifier(n_estimators=50, max_depth=2,random_state=1)"
   ]
  },
  {
   "cell_type": "code",
   "execution_count": 61,
   "id": "ca67f1ca",
   "metadata": {},
   "outputs": [],
   "source": [
    "gc = GaussianNB()"
   ]
  },
  {
   "cell_type": "code",
   "execution_count": 63,
   "id": "e0f77d3d",
   "metadata": {},
   "outputs": [],
   "source": [
    "votcm = VotingClassifier(estimators=[('lr',lr_m),('rf',rc_model),('gnb',gc)],voting='hard')"
   ]
  },
  {
   "cell_type": "code",
   "execution_count": 64,
   "id": "7b2adcb5",
   "metadata": {},
   "outputs": [
    {
     "name": "stderr",
     "output_type": "stream",
     "text": [
      "C:\\Users\\HP\\anaconda3\\lib\\site-packages\\sklearn\\linear_model\\_logistic.py:444: ConvergenceWarning: lbfgs failed to converge (status=1):\n",
      "STOP: TOTAL NO. of ITERATIONS REACHED LIMIT.\n",
      "\n",
      "Increase the number of iterations (max_iter) or scale the data as shown in:\n",
      "    https://scikit-learn.org/stable/modules/preprocessing.html\n",
      "Please also refer to the documentation for alternative solver options:\n",
      "    https://scikit-learn.org/stable/modules/linear_model.html#logistic-regression\n",
      "  n_iter_i = _check_optimize_result(\n"
     ]
    },
    {
     "data": {
      "text/html": [
       "<style>#sk-container-id-3 {color: black;background-color: white;}#sk-container-id-3 pre{padding: 0;}#sk-container-id-3 div.sk-toggleable {background-color: white;}#sk-container-id-3 label.sk-toggleable__label {cursor: pointer;display: block;width: 100%;margin-bottom: 0;padding: 0.3em;box-sizing: border-box;text-align: center;}#sk-container-id-3 label.sk-toggleable__label-arrow:before {content: \"▸\";float: left;margin-right: 0.25em;color: #696969;}#sk-container-id-3 label.sk-toggleable__label-arrow:hover:before {color: black;}#sk-container-id-3 div.sk-estimator:hover label.sk-toggleable__label-arrow:before {color: black;}#sk-container-id-3 div.sk-toggleable__content {max-height: 0;max-width: 0;overflow: hidden;text-align: left;background-color: #f0f8ff;}#sk-container-id-3 div.sk-toggleable__content pre {margin: 0.2em;color: black;border-radius: 0.25em;background-color: #f0f8ff;}#sk-container-id-3 input.sk-toggleable__control:checked~div.sk-toggleable__content {max-height: 200px;max-width: 100%;overflow: auto;}#sk-container-id-3 input.sk-toggleable__control:checked~label.sk-toggleable__label-arrow:before {content: \"▾\";}#sk-container-id-3 div.sk-estimator input.sk-toggleable__control:checked~label.sk-toggleable__label {background-color: #d4ebff;}#sk-container-id-3 div.sk-label input.sk-toggleable__control:checked~label.sk-toggleable__label {background-color: #d4ebff;}#sk-container-id-3 input.sk-hidden--visually {border: 0;clip: rect(1px 1px 1px 1px);clip: rect(1px, 1px, 1px, 1px);height: 1px;margin: -1px;overflow: hidden;padding: 0;position: absolute;width: 1px;}#sk-container-id-3 div.sk-estimator {font-family: monospace;background-color: #f0f8ff;border: 1px dotted black;border-radius: 0.25em;box-sizing: border-box;margin-bottom: 0.5em;}#sk-container-id-3 div.sk-estimator:hover {background-color: #d4ebff;}#sk-container-id-3 div.sk-parallel-item::after {content: \"\";width: 100%;border-bottom: 1px solid gray;flex-grow: 1;}#sk-container-id-3 div.sk-label:hover label.sk-toggleable__label {background-color: #d4ebff;}#sk-container-id-3 div.sk-serial::before {content: \"\";position: absolute;border-left: 1px solid gray;box-sizing: border-box;top: 0;bottom: 0;left: 50%;z-index: 0;}#sk-container-id-3 div.sk-serial {display: flex;flex-direction: column;align-items: center;background-color: white;padding-right: 0.2em;padding-left: 0.2em;position: relative;}#sk-container-id-3 div.sk-item {position: relative;z-index: 1;}#sk-container-id-3 div.sk-parallel {display: flex;align-items: stretch;justify-content: center;background-color: white;position: relative;}#sk-container-id-3 div.sk-item::before, #sk-container-id-3 div.sk-parallel-item::before {content: \"\";position: absolute;border-left: 1px solid gray;box-sizing: border-box;top: 0;bottom: 0;left: 50%;z-index: -1;}#sk-container-id-3 div.sk-parallel-item {display: flex;flex-direction: column;z-index: 1;position: relative;background-color: white;}#sk-container-id-3 div.sk-parallel-item:first-child::after {align-self: flex-end;width: 50%;}#sk-container-id-3 div.sk-parallel-item:last-child::after {align-self: flex-start;width: 50%;}#sk-container-id-3 div.sk-parallel-item:only-child::after {width: 0;}#sk-container-id-3 div.sk-dashed-wrapped {border: 1px dashed gray;margin: 0 0.4em 0.5em 0.4em;box-sizing: border-box;padding-bottom: 0.4em;background-color: white;}#sk-container-id-3 div.sk-label label {font-family: monospace;font-weight: bold;display: inline-block;line-height: 1.2em;}#sk-container-id-3 div.sk-label-container {text-align: center;}#sk-container-id-3 div.sk-container {/* jupyter's `normalize.less` sets `[hidden] { display: none; }` but bootstrap.min.css set `[hidden] { display: none !important; }` so we also need the `!important` here to be able to override the default hidden behavior on the sphinx rendered scikit-learn.org. See: https://github.com/scikit-learn/scikit-learn/issues/21755 */display: inline-block !important;position: relative;}#sk-container-id-3 div.sk-text-repr-fallback {display: none;}</style><div id=\"sk-container-id-3\" class=\"sk-top-container\"><div class=\"sk-text-repr-fallback\"><pre>VotingClassifier(estimators=[(&#x27;lr&#x27;, LogisticRegression(random_state=1)),\n",
       "                             (&#x27;rf&#x27;,\n",
       "                              RandomForestClassifier(max_depth=2,\n",
       "                                                     n_estimators=50,\n",
       "                                                     random_state=1)),\n",
       "                             (&#x27;gnb&#x27;, GaussianNB())])</pre><b>In a Jupyter environment, please rerun this cell to show the HTML representation or trust the notebook. <br />On GitHub, the HTML representation is unable to render, please try loading this page with nbviewer.org.</b></div><div class=\"sk-container\" hidden><div class=\"sk-item sk-dashed-wrapped\"><div class=\"sk-label-container\"><div class=\"sk-label sk-toggleable\"><input class=\"sk-toggleable__control sk-hidden--visually\" id=\"sk-estimator-id-3\" type=\"checkbox\" ><label for=\"sk-estimator-id-3\" class=\"sk-toggleable__label sk-toggleable__label-arrow\">VotingClassifier</label><div class=\"sk-toggleable__content\"><pre>VotingClassifier(estimators=[(&#x27;lr&#x27;, LogisticRegression(random_state=1)),\n",
       "                             (&#x27;rf&#x27;,\n",
       "                              RandomForestClassifier(max_depth=2,\n",
       "                                                     n_estimators=50,\n",
       "                                                     random_state=1)),\n",
       "                             (&#x27;gnb&#x27;, GaussianNB())])</pre></div></div></div><div class=\"sk-parallel\"><div class=\"sk-parallel-item\"><div class=\"sk-item\"><div class=\"sk-label-container\"><div class=\"sk-label sk-toggleable\"><label>lr</label></div></div><div class=\"sk-serial\"><div class=\"sk-item\"><div class=\"sk-estimator sk-toggleable\"><input class=\"sk-toggleable__control sk-hidden--visually\" id=\"sk-estimator-id-4\" type=\"checkbox\" ><label for=\"sk-estimator-id-4\" class=\"sk-toggleable__label sk-toggleable__label-arrow\">LogisticRegression</label><div class=\"sk-toggleable__content\"><pre>LogisticRegression(random_state=1)</pre></div></div></div></div></div></div><div class=\"sk-parallel-item\"><div class=\"sk-item\"><div class=\"sk-label-container\"><div class=\"sk-label sk-toggleable\"><label>rf</label></div></div><div class=\"sk-serial\"><div class=\"sk-item\"><div class=\"sk-estimator sk-toggleable\"><input class=\"sk-toggleable__control sk-hidden--visually\" id=\"sk-estimator-id-5\" type=\"checkbox\" ><label for=\"sk-estimator-id-5\" class=\"sk-toggleable__label sk-toggleable__label-arrow\">RandomForestClassifier</label><div class=\"sk-toggleable__content\"><pre>RandomForestClassifier(max_depth=2, n_estimators=50, random_state=1)</pre></div></div></div></div></div></div><div class=\"sk-parallel-item\"><div class=\"sk-item\"><div class=\"sk-label-container\"><div class=\"sk-label sk-toggleable\"><label>gnb</label></div></div><div class=\"sk-serial\"><div class=\"sk-item\"><div class=\"sk-estimator sk-toggleable\"><input class=\"sk-toggleable__control sk-hidden--visually\" id=\"sk-estimator-id-6\" type=\"checkbox\" ><label for=\"sk-estimator-id-6\" class=\"sk-toggleable__label sk-toggleable__label-arrow\">GaussianNB</label><div class=\"sk-toggleable__content\"><pre>GaussianNB()</pre></div></div></div></div></div></div></div></div></div></div>"
      ],
      "text/plain": [
       "VotingClassifier(estimators=[('lr', LogisticRegression(random_state=1)),\n",
       "                             ('rf',\n",
       "                              RandomForestClassifier(max_depth=2,\n",
       "                                                     n_estimators=50,\n",
       "                                                     random_state=1)),\n",
       "                             ('gnb', GaussianNB())])"
      ]
     },
     "execution_count": 64,
     "metadata": {},
     "output_type": "execute_result"
    }
   ],
   "source": [
    "votcm.fit(X_train,y_train)"
   ]
  },
  {
   "cell_type": "code",
   "execution_count": 65,
   "id": "3c0086c2",
   "metadata": {},
   "outputs": [
    {
     "data": {
      "text/plain": [
       "array([0, 0, 0, ..., 0, 0, 0], dtype=int64)"
      ]
     },
     "execution_count": 65,
     "metadata": {},
     "output_type": "execute_result"
    }
   ],
   "source": [
    "y_prd_vtc = votcm.predict(X_test)\n",
    "y_prd_vtc"
   ]
  },
  {
   "cell_type": "code",
   "execution_count": 66,
   "id": "900afde2",
   "metadata": {},
   "outputs": [
    {
     "data": {
      "text/plain": [
       "array([[7586,  610],\n",
       "       [1177, 1373]], dtype=int64)"
      ]
     },
     "execution_count": 66,
     "metadata": {},
     "output_type": "execute_result"
    }
   ],
   "source": [
    "cm_v = confusion_matrix(y_test,y_prd_vtc)\n",
    "cm_v"
   ]
  },
  {
   "cell_type": "code",
   "execution_count": 67,
   "id": "d212c4be",
   "metadata": {},
   "outputs": [
    {
     "name": "stdout",
     "output_type": "stream",
     "text": [
      "0.8337055648613437\n"
     ]
    }
   ],
   "source": [
    "print(accuracy_score(y_test,y_prd_vtc))"
   ]
  },
  {
   "cell_type": "code",
   "execution_count": 68,
   "id": "186cc8c4",
   "metadata": {},
   "outputs": [
    {
     "name": "stdout",
     "output_type": "stream",
     "text": [
      "              precision    recall  f1-score   support\n",
      "\n",
      "           0       0.87      0.93      0.89      8196\n",
      "           1       0.69      0.54      0.61      2550\n",
      "\n",
      "    accuracy                           0.83     10746\n",
      "   macro avg       0.78      0.73      0.75     10746\n",
      "weighted avg       0.82      0.83      0.83     10746\n",
      "\n"
     ]
    }
   ],
   "source": [
    "print(classification_report(y_test,y_prd_vtc))"
   ]
  },
  {
   "cell_type": "code",
   "execution_count": 69,
   "id": "ff5baea6",
   "metadata": {},
   "outputs": [
    {
     "ename": "AttributeError",
     "evalue": "predict_proba is not available when voting='hard'",
     "output_type": "error",
     "traceback": [
      "\u001b[1;31m---------------------------------------------------------------------------\u001b[0m",
      "\u001b[1;31mAttributeError\u001b[0m                            Traceback (most recent call last)",
      "\u001b[1;32m~\\AppData\\Local\\Temp/ipykernel_3720/594415357.py\u001b[0m in \u001b[0;36m<module>\u001b[1;34m\u001b[0m\n\u001b[1;32m----> 1\u001b[1;33m \u001b[0my_prd_vt_prb\u001b[0m \u001b[1;33m=\u001b[0m \u001b[0mvotcm\u001b[0m\u001b[1;33m.\u001b[0m\u001b[0mpredict_proba\u001b[0m\u001b[1;33m(\u001b[0m\u001b[0mX_test\u001b[0m\u001b[1;33m)\u001b[0m\u001b[1;33m[\u001b[0m\u001b[1;33m:\u001b[0m\u001b[1;33m,\u001b[0m\u001b[1;36m1\u001b[0m\u001b[1;33m]\u001b[0m\u001b[1;33m\u001b[0m\u001b[1;33m\u001b[0m\u001b[0m\n\u001b[0m\u001b[0;32m      2\u001b[0m \u001b[0my_prd_vt_prb\u001b[0m\u001b[1;33m\u001b[0m\u001b[1;33m\u001b[0m\u001b[0m\n",
      "\u001b[1;32m~\\anaconda3\\lib\\site-packages\\sklearn\\utils\\metaestimators.py\u001b[0m in \u001b[0;36m__get__\u001b[1;34m(self, obj, owner)\u001b[0m\n\u001b[0;32m    125\u001b[0m             \u001b[1;31m# delegate only on instances, not the classes.\u001b[0m\u001b[1;33m\u001b[0m\u001b[1;33m\u001b[0m\u001b[0m\n\u001b[0;32m    126\u001b[0m             \u001b[1;31m# this is to allow access to the docstrings.\u001b[0m\u001b[1;33m\u001b[0m\u001b[1;33m\u001b[0m\u001b[0m\n\u001b[1;32m--> 127\u001b[1;33m             \u001b[1;32mif\u001b[0m \u001b[1;32mnot\u001b[0m \u001b[0mself\u001b[0m\u001b[1;33m.\u001b[0m\u001b[0mcheck\u001b[0m\u001b[1;33m(\u001b[0m\u001b[0mobj\u001b[0m\u001b[1;33m)\u001b[0m\u001b[1;33m:\u001b[0m\u001b[1;33m\u001b[0m\u001b[1;33m\u001b[0m\u001b[0m\n\u001b[0m\u001b[0;32m    128\u001b[0m                 \u001b[1;32mraise\u001b[0m \u001b[0mattr_err\u001b[0m\u001b[1;33m\u001b[0m\u001b[1;33m\u001b[0m\u001b[0m\n\u001b[0;32m    129\u001b[0m             \u001b[0mout\u001b[0m \u001b[1;33m=\u001b[0m \u001b[0mMethodType\u001b[0m\u001b[1;33m(\u001b[0m\u001b[0mself\u001b[0m\u001b[1;33m.\u001b[0m\u001b[0mfn\u001b[0m\u001b[1;33m,\u001b[0m \u001b[0mobj\u001b[0m\u001b[1;33m)\u001b[0m\u001b[1;33m\u001b[0m\u001b[1;33m\u001b[0m\u001b[0m\n",
      "\u001b[1;32m~\\anaconda3\\lib\\site-packages\\sklearn\\ensemble\\_voting.py\u001b[0m in \u001b[0;36m_check_voting\u001b[1;34m(self)\u001b[0m\n\u001b[0;32m    386\u001b[0m     \u001b[1;32mdef\u001b[0m \u001b[0m_check_voting\u001b[0m\u001b[1;33m(\u001b[0m\u001b[0mself\u001b[0m\u001b[1;33m)\u001b[0m\u001b[1;33m:\u001b[0m\u001b[1;33m\u001b[0m\u001b[1;33m\u001b[0m\u001b[0m\n\u001b[0;32m    387\u001b[0m         \u001b[1;32mif\u001b[0m \u001b[0mself\u001b[0m\u001b[1;33m.\u001b[0m\u001b[0mvoting\u001b[0m \u001b[1;33m==\u001b[0m \u001b[1;34m\"hard\"\u001b[0m\u001b[1;33m:\u001b[0m\u001b[1;33m\u001b[0m\u001b[1;33m\u001b[0m\u001b[0m\n\u001b[1;32m--> 388\u001b[1;33m             raise AttributeError(\n\u001b[0m\u001b[0;32m    389\u001b[0m                 \u001b[1;34mf\"predict_proba is not available when voting={repr(self.voting)}\"\u001b[0m\u001b[1;33m\u001b[0m\u001b[1;33m\u001b[0m\u001b[0m\n\u001b[0;32m    390\u001b[0m             )\n",
      "\u001b[1;31mAttributeError\u001b[0m: predict_proba is not available when voting='hard'"
     ]
    }
   ],
   "source": [
    "y_prd_vt_prb = votcm.predict_proba(X_test)[:,1]\n",
    "y_prd_vt_prb"
   ]
  },
  {
   "cell_type": "code",
   "execution_count": 70,
   "id": "61bf3666",
   "metadata": {},
   "outputs": [],
   "source": [
    "votcm_s = VotingClassifier(estimators=[('lr',lr_m),('rf',rc_model),('gnb',gc)],voting='soft')"
   ]
  },
  {
   "cell_type": "code",
   "execution_count": 71,
   "id": "761f8c8a",
   "metadata": {},
   "outputs": [
    {
     "name": "stderr",
     "output_type": "stream",
     "text": [
      "C:\\Users\\HP\\anaconda3\\lib\\site-packages\\sklearn\\linear_model\\_logistic.py:444: ConvergenceWarning: lbfgs failed to converge (status=1):\n",
      "STOP: TOTAL NO. of ITERATIONS REACHED LIMIT.\n",
      "\n",
      "Increase the number of iterations (max_iter) or scale the data as shown in:\n",
      "    https://scikit-learn.org/stable/modules/preprocessing.html\n",
      "Please also refer to the documentation for alternative solver options:\n",
      "    https://scikit-learn.org/stable/modules/linear_model.html#logistic-regression\n",
      "  n_iter_i = _check_optimize_result(\n"
     ]
    },
    {
     "data": {
      "text/html": [
       "<style>#sk-container-id-4 {color: black;background-color: white;}#sk-container-id-4 pre{padding: 0;}#sk-container-id-4 div.sk-toggleable {background-color: white;}#sk-container-id-4 label.sk-toggleable__label {cursor: pointer;display: block;width: 100%;margin-bottom: 0;padding: 0.3em;box-sizing: border-box;text-align: center;}#sk-container-id-4 label.sk-toggleable__label-arrow:before {content: \"▸\";float: left;margin-right: 0.25em;color: #696969;}#sk-container-id-4 label.sk-toggleable__label-arrow:hover:before {color: black;}#sk-container-id-4 div.sk-estimator:hover label.sk-toggleable__label-arrow:before {color: black;}#sk-container-id-4 div.sk-toggleable__content {max-height: 0;max-width: 0;overflow: hidden;text-align: left;background-color: #f0f8ff;}#sk-container-id-4 div.sk-toggleable__content pre {margin: 0.2em;color: black;border-radius: 0.25em;background-color: #f0f8ff;}#sk-container-id-4 input.sk-toggleable__control:checked~div.sk-toggleable__content {max-height: 200px;max-width: 100%;overflow: auto;}#sk-container-id-4 input.sk-toggleable__control:checked~label.sk-toggleable__label-arrow:before {content: \"▾\";}#sk-container-id-4 div.sk-estimator input.sk-toggleable__control:checked~label.sk-toggleable__label {background-color: #d4ebff;}#sk-container-id-4 div.sk-label input.sk-toggleable__control:checked~label.sk-toggleable__label {background-color: #d4ebff;}#sk-container-id-4 input.sk-hidden--visually {border: 0;clip: rect(1px 1px 1px 1px);clip: rect(1px, 1px, 1px, 1px);height: 1px;margin: -1px;overflow: hidden;padding: 0;position: absolute;width: 1px;}#sk-container-id-4 div.sk-estimator {font-family: monospace;background-color: #f0f8ff;border: 1px dotted black;border-radius: 0.25em;box-sizing: border-box;margin-bottom: 0.5em;}#sk-container-id-4 div.sk-estimator:hover {background-color: #d4ebff;}#sk-container-id-4 div.sk-parallel-item::after {content: \"\";width: 100%;border-bottom: 1px solid gray;flex-grow: 1;}#sk-container-id-4 div.sk-label:hover label.sk-toggleable__label {background-color: #d4ebff;}#sk-container-id-4 div.sk-serial::before {content: \"\";position: absolute;border-left: 1px solid gray;box-sizing: border-box;top: 0;bottom: 0;left: 50%;z-index: 0;}#sk-container-id-4 div.sk-serial {display: flex;flex-direction: column;align-items: center;background-color: white;padding-right: 0.2em;padding-left: 0.2em;position: relative;}#sk-container-id-4 div.sk-item {position: relative;z-index: 1;}#sk-container-id-4 div.sk-parallel {display: flex;align-items: stretch;justify-content: center;background-color: white;position: relative;}#sk-container-id-4 div.sk-item::before, #sk-container-id-4 div.sk-parallel-item::before {content: \"\";position: absolute;border-left: 1px solid gray;box-sizing: border-box;top: 0;bottom: 0;left: 50%;z-index: -1;}#sk-container-id-4 div.sk-parallel-item {display: flex;flex-direction: column;z-index: 1;position: relative;background-color: white;}#sk-container-id-4 div.sk-parallel-item:first-child::after {align-self: flex-end;width: 50%;}#sk-container-id-4 div.sk-parallel-item:last-child::after {align-self: flex-start;width: 50%;}#sk-container-id-4 div.sk-parallel-item:only-child::after {width: 0;}#sk-container-id-4 div.sk-dashed-wrapped {border: 1px dashed gray;margin: 0 0.4em 0.5em 0.4em;box-sizing: border-box;padding-bottom: 0.4em;background-color: white;}#sk-container-id-4 div.sk-label label {font-family: monospace;font-weight: bold;display: inline-block;line-height: 1.2em;}#sk-container-id-4 div.sk-label-container {text-align: center;}#sk-container-id-4 div.sk-container {/* jupyter's `normalize.less` sets `[hidden] { display: none; }` but bootstrap.min.css set `[hidden] { display: none !important; }` so we also need the `!important` here to be able to override the default hidden behavior on the sphinx rendered scikit-learn.org. See: https://github.com/scikit-learn/scikit-learn/issues/21755 */display: inline-block !important;position: relative;}#sk-container-id-4 div.sk-text-repr-fallback {display: none;}</style><div id=\"sk-container-id-4\" class=\"sk-top-container\"><div class=\"sk-text-repr-fallback\"><pre>VotingClassifier(estimators=[(&#x27;lr&#x27;, LogisticRegression(random_state=1)),\n",
       "                             (&#x27;rf&#x27;,\n",
       "                              RandomForestClassifier(max_depth=2,\n",
       "                                                     n_estimators=50,\n",
       "                                                     random_state=1)),\n",
       "                             (&#x27;gnb&#x27;, GaussianNB())],\n",
       "                 voting=&#x27;soft&#x27;)</pre><b>In a Jupyter environment, please rerun this cell to show the HTML representation or trust the notebook. <br />On GitHub, the HTML representation is unable to render, please try loading this page with nbviewer.org.</b></div><div class=\"sk-container\" hidden><div class=\"sk-item sk-dashed-wrapped\"><div class=\"sk-label-container\"><div class=\"sk-label sk-toggleable\"><input class=\"sk-toggleable__control sk-hidden--visually\" id=\"sk-estimator-id-7\" type=\"checkbox\" ><label for=\"sk-estimator-id-7\" class=\"sk-toggleable__label sk-toggleable__label-arrow\">VotingClassifier</label><div class=\"sk-toggleable__content\"><pre>VotingClassifier(estimators=[(&#x27;lr&#x27;, LogisticRegression(random_state=1)),\n",
       "                             (&#x27;rf&#x27;,\n",
       "                              RandomForestClassifier(max_depth=2,\n",
       "                                                     n_estimators=50,\n",
       "                                                     random_state=1)),\n",
       "                             (&#x27;gnb&#x27;, GaussianNB())],\n",
       "                 voting=&#x27;soft&#x27;)</pre></div></div></div><div class=\"sk-parallel\"><div class=\"sk-parallel-item\"><div class=\"sk-item\"><div class=\"sk-label-container\"><div class=\"sk-label sk-toggleable\"><label>lr</label></div></div><div class=\"sk-serial\"><div class=\"sk-item\"><div class=\"sk-estimator sk-toggleable\"><input class=\"sk-toggleable__control sk-hidden--visually\" id=\"sk-estimator-id-8\" type=\"checkbox\" ><label for=\"sk-estimator-id-8\" class=\"sk-toggleable__label sk-toggleable__label-arrow\">LogisticRegression</label><div class=\"sk-toggleable__content\"><pre>LogisticRegression(random_state=1)</pre></div></div></div></div></div></div><div class=\"sk-parallel-item\"><div class=\"sk-item\"><div class=\"sk-label-container\"><div class=\"sk-label sk-toggleable\"><label>rf</label></div></div><div class=\"sk-serial\"><div class=\"sk-item\"><div class=\"sk-estimator sk-toggleable\"><input class=\"sk-toggleable__control sk-hidden--visually\" id=\"sk-estimator-id-9\" type=\"checkbox\" ><label for=\"sk-estimator-id-9\" class=\"sk-toggleable__label sk-toggleable__label-arrow\">RandomForestClassifier</label><div class=\"sk-toggleable__content\"><pre>RandomForestClassifier(max_depth=2, n_estimators=50, random_state=1)</pre></div></div></div></div></div></div><div class=\"sk-parallel-item\"><div class=\"sk-item\"><div class=\"sk-label-container\"><div class=\"sk-label sk-toggleable\"><label>gnb</label></div></div><div class=\"sk-serial\"><div class=\"sk-item\"><div class=\"sk-estimator sk-toggleable\"><input class=\"sk-toggleable__control sk-hidden--visually\" id=\"sk-estimator-id-10\" type=\"checkbox\" ><label for=\"sk-estimator-id-10\" class=\"sk-toggleable__label sk-toggleable__label-arrow\">GaussianNB</label><div class=\"sk-toggleable__content\"><pre>GaussianNB()</pre></div></div></div></div></div></div></div></div></div></div>"
      ],
      "text/plain": [
       "VotingClassifier(estimators=[('lr', LogisticRegression(random_state=1)),\n",
       "                             ('rf',\n",
       "                              RandomForestClassifier(max_depth=2,\n",
       "                                                     n_estimators=50,\n",
       "                                                     random_state=1)),\n",
       "                             ('gnb', GaussianNB())],\n",
       "                 voting='soft')"
      ]
     },
     "execution_count": 71,
     "metadata": {},
     "output_type": "execute_result"
    }
   ],
   "source": [
    "votcm_s.fit(X_train,y_train)"
   ]
  },
  {
   "cell_type": "code",
   "execution_count": 72,
   "id": "66ee9625",
   "metadata": {},
   "outputs": [
    {
     "data": {
      "text/plain": [
       "array([0, 1, 0, ..., 1, 1, 0], dtype=int64)"
      ]
     },
     "execution_count": 72,
     "metadata": {},
     "output_type": "execute_result"
    }
   ],
   "source": [
    "y_prd_vts = votcm_s.predict(X_test)\n",
    "y_prd_vts"
   ]
  },
  {
   "cell_type": "code",
   "execution_count": 73,
   "id": "84bd4272",
   "metadata": {},
   "outputs": [
    {
     "data": {
      "text/plain": [
       "array([[6490, 1706],\n",
       "       [ 501, 2049]], dtype=int64)"
      ]
     },
     "execution_count": 73,
     "metadata": {},
     "output_type": "execute_result"
    }
   ],
   "source": [
    "cm_vs = confusion_matrix(y_test,y_prd_vts)\n",
    "cm_vs"
   ]
  },
  {
   "cell_type": "code",
   "execution_count": 74,
   "id": "aaef63da",
   "metadata": {},
   "outputs": [
    {
     "name": "stdout",
     "output_type": "stream",
     "text": [
      "0.7946212544202494\n"
     ]
    }
   ],
   "source": [
    "print(accuracy_score(y_test,y_prd_vts))"
   ]
  },
  {
   "cell_type": "code",
   "execution_count": 75,
   "id": "c4ab3e1f",
   "metadata": {},
   "outputs": [
    {
     "name": "stdout",
     "output_type": "stream",
     "text": [
      "              precision    recall  f1-score   support\n",
      "\n",
      "           0       0.93      0.79      0.85      8196\n",
      "           1       0.55      0.80      0.65      2550\n",
      "\n",
      "    accuracy                           0.79     10746\n",
      "   macro avg       0.74      0.80      0.75     10746\n",
      "weighted avg       0.84      0.79      0.81     10746\n",
      "\n"
     ]
    }
   ],
   "source": [
    "print(classification_report(y_test,y_prd_vts))"
   ]
  },
  {
   "cell_type": "code",
   "execution_count": 76,
   "id": "cabf14d2",
   "metadata": {},
   "outputs": [
    {
     "data": {
      "text/plain": [
       "array([0.04432923, 0.57105537, 0.33161449, ..., 0.57496874, 0.55883647,\n",
       "       0.0478902 ])"
      ]
     },
     "execution_count": 76,
     "metadata": {},
     "output_type": "execute_result"
    }
   ],
   "source": [
    "y_prd_vts_prb = votcm_s.predict_proba(X_test)[:,1]\n",
    "y_prd_vts_prb"
   ]
  },
  {
   "cell_type": "code",
   "execution_count": 77,
   "id": "9f126107",
   "metadata": {},
   "outputs": [
    {
     "data": {
      "text/plain": [
       "(array([0.        , 0.        , 0.        , ..., 0.96461689, 0.96498292,\n",
       "        1.        ]),\n",
       " array([0.00000000e+00, 3.92156863e-04, 8.74509804e-02, ...,\n",
       "        1.00000000e+00, 1.00000000e+00, 1.00000000e+00]))"
      ]
     },
     "execution_count": 77,
     "metadata": {},
     "output_type": "execute_result"
    }
   ],
   "source": [
    "fpr_v,tpr_v,ther_v = roc_curve(y_test,y_prd_vts_prb)\n",
    "fpr_v,tpr_v"
   ]
  },
  {
   "cell_type": "code",
   "execution_count": 79,
   "id": "87cb9d23",
   "metadata": {},
   "outputs": [
    {
     "data": {
      "text/plain": [
       "0.8851977052411986"
      ]
     },
     "execution_count": 79,
     "metadata": {},
     "output_type": "execute_result"
    }
   ],
   "source": [
    "auc_v = roc_auc_score(y_test,y_prd_vts_prb)\n",
    "auc_v"
   ]
  },
  {
   "cell_type": "code",
   "execution_count": 80,
   "id": "b351fee4",
   "metadata": {},
   "outputs": [
    {
     "data": {
      "image/png": "[encoded data removed]",
      "text/plain": [
       "<Figure size 432x288 with 1 Axes>"
      ]
     },
     "metadata": {
      "needs_background": "light"
     },
     "output_type": "display_data"
    }
   ],
   "source": [
    "plot_roc_curve(fpr_v,tpr_v,auc_v)"
   ]
  },
  {
   "cell_type": "markdown",
   "id": "3880b2bf",
   "metadata": {},
   "source": [
    "### the AUC score is 88% and accuracy is 79% we can improve the score by hyperparameter tuening but as my System is very old and it will give wrose effect for the running application. I will submit those hyperparamerer later."
   ]
  },
  {
   "cell_type": "markdown",
   "id": "9d3a93ad",
   "metadata": {},
   "source": [
    "### Thank You"
   ]
  },
  {
   "cell_type": "markdown",
   "id": "18301ee5",
   "metadata": {},
   "source": []
  }
 ],
 "metadata": {
  "kernelspec": {
   "display_name": "Python 3 (ipykernel)",
   "language": "python",
   "name": "python3"
  },
  "language_info": {
   "codemirror_mode": {
    "name": "ipython",
    "version": 3
   },
   "file_extension": ".py",
   "mimetype": "text/x-python",
   "name": "python",
   "nbconvert_exporter": "python",
   "pygments_lexer": "ipython3",
   "version": "3.9.7"
  }
 },
 "nbformat": 4,
 "nbformat_minor": 5
}
